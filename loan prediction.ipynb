{
 "cells": [
  {
   "cell_type": "markdown",
   "id": "a1a9fe2b",
   "metadata": {},
   "source": [
    "<h1 style=\"font-size: 45px; font-family: cursive; color:#191970\">Loan Predection</h1>\n"
   ]
  },
  {
   "cell_type": "markdown",
   "id": "327fd348",
   "metadata": {},
   "source": [
    "![loans](loan-repayment-2.jpg)\n",
    "\n",
    "<h3 style=\"color: rgb(70, 80, 96); opacity: 0.8;  letter-spacing: 2px; line-height: 1.6\">"
   ]
  },
  {
   "cell_type": "markdown",
   "id": "0a402b44",
   "metadata": {},
   "source": [
    "\n",
    "<h1 style=\"font-family:Times New Roman; font-size:1.5em;color:black;\">  Problem Defination: </h1>\n"
   ]
  },
  {
   "cell_type": "markdown",
   "id": "51e4b2df",
   "metadata": {},
   "source": [
    "### 👉 The company seeks to automate (in real time) the loan qualifying procedure based on information given by customers while filling out an online application form. It is expected that the development of ML models that can help the company predict loan approval in accelerating decision-making process for determining whether an applicant is eligible for a loan or not"
   ]
  },
  {
   "cell_type": "markdown",
   "id": "9a80659c",
   "metadata": {},
   "source": [
    "<h1 style=\"font-family:Times New Roman; font-size:2.0em;color:black;\"> Data Description: </h1>"
   ]
  },
  {
   "cell_type": "markdown",
   "id": "38ec704f",
   "metadata": {},
   "source": [
    "| Feature  | Description |\n",
    "| -------- | ----------- |\n",
    "| Loan_ID |  Unique Loan ID. |\n",
    "| Gender |  Male or Female.|\n",
    "| Married| Married or not. |\n",
    "| Dependents |Number of dependents |\n",
    "| Education| int | Villa viwers |\n",
    "| Self_Employed|Self_Employed(Y/N). |\n",
    "| ApplicantIncome | Applicant Income.|\n",
    "|CoapplicantIncome|Co_applicant Income. |\n",
    "|LoanAmount| Loan Amount in thousands. |\n",
    "| Loan_Amount_Term| Term of loan in months. |\n",
    "| Credit_History| Credit History meets guildlines.  |\n",
    "|Property_Area| Urban / semi urban / Rural  |\n",
    "|Loan_Status| Target of loan(Y/N). |\n"
   ]
  },
  {
   "cell_type": "code",
   "execution_count": 797,
   "id": "fd99cec8",
   "metadata": {},
   "outputs": [],
   "source": [
    "import pandas as pd\n",
    "import numpy as np\n",
    "import seaborn as sns\n",
    "from sklearn.compose import ColumnTransformer\n",
    "from sklearn.pipeline import Pipeline\n",
    "from sklearn.model_selection import cross_validate\n",
    "from sklearn.preprocessing import OneHotEncoder , RobustScaler\n",
    "from category_encoders import BinaryEncoder\n",
    "import warnings\n",
    "warnings.filterwarnings('ignore')\n",
    "import matplotlib.pyplot as plt"
   ]
  },
  {
   "cell_type": "code",
   "execution_count": 722,
   "id": "8d8f44dc",
   "metadata": {},
   "outputs": [
    {
     "data": {
      "text/html": [
       "<div>\n",
       "<style scoped>\n",
       "    .dataframe tbody tr th:only-of-type {\n",
       "        vertical-align: middle;\n",
       "    }\n",
       "\n",
       "    .dataframe tbody tr th {\n",
       "        vertical-align: top;\n",
       "    }\n",
       "\n",
       "    .dataframe thead th {\n",
       "        text-align: right;\n",
       "    }\n",
       "</style>\n",
       "<table border=\"1\" class=\"dataframe\">\n",
       "  <thead>\n",
       "    <tr style=\"text-align: right;\">\n",
       "      <th></th>\n",
       "      <th>Loan_ID</th>\n",
       "      <th>Gender</th>\n",
       "      <th>Married</th>\n",
       "      <th>Dependents</th>\n",
       "      <th>Education</th>\n",
       "      <th>Self_Employed</th>\n",
       "      <th>ApplicantIncome</th>\n",
       "      <th>CoapplicantIncome</th>\n",
       "      <th>LoanAmount</th>\n",
       "      <th>Loan_Amount_Term</th>\n",
       "      <th>Credit_History</th>\n",
       "      <th>Property_Area</th>\n",
       "      <th>Loan_Status</th>\n",
       "    </tr>\n",
       "  </thead>\n",
       "  <tbody>\n",
       "    <tr>\n",
       "      <th>0</th>\n",
       "      <td>LP001002</td>\n",
       "      <td>Male</td>\n",
       "      <td>No</td>\n",
       "      <td>0</td>\n",
       "      <td>Graduate</td>\n",
       "      <td>No</td>\n",
       "      <td>5849</td>\n",
       "      <td>0.0</td>\n",
       "      <td>NaN</td>\n",
       "      <td>360.0</td>\n",
       "      <td>1.0</td>\n",
       "      <td>Urban</td>\n",
       "      <td>Y</td>\n",
       "    </tr>\n",
       "    <tr>\n",
       "      <th>1</th>\n",
       "      <td>LP001003</td>\n",
       "      <td>Male</td>\n",
       "      <td>Yes</td>\n",
       "      <td>1</td>\n",
       "      <td>Graduate</td>\n",
       "      <td>No</td>\n",
       "      <td>4583</td>\n",
       "      <td>1508.0</td>\n",
       "      <td>128.0</td>\n",
       "      <td>360.0</td>\n",
       "      <td>1.0</td>\n",
       "      <td>Rural</td>\n",
       "      <td>N</td>\n",
       "    </tr>\n",
       "    <tr>\n",
       "      <th>2</th>\n",
       "      <td>LP001005</td>\n",
       "      <td>Male</td>\n",
       "      <td>Yes</td>\n",
       "      <td>0</td>\n",
       "      <td>Graduate</td>\n",
       "      <td>Yes</td>\n",
       "      <td>3000</td>\n",
       "      <td>0.0</td>\n",
       "      <td>66.0</td>\n",
       "      <td>360.0</td>\n",
       "      <td>1.0</td>\n",
       "      <td>Urban</td>\n",
       "      <td>Y</td>\n",
       "    </tr>\n",
       "    <tr>\n",
       "      <th>3</th>\n",
       "      <td>LP001006</td>\n",
       "      <td>Male</td>\n",
       "      <td>Yes</td>\n",
       "      <td>0</td>\n",
       "      <td>Not Graduate</td>\n",
       "      <td>No</td>\n",
       "      <td>2583</td>\n",
       "      <td>2358.0</td>\n",
       "      <td>120.0</td>\n",
       "      <td>360.0</td>\n",
       "      <td>1.0</td>\n",
       "      <td>Urban</td>\n",
       "      <td>Y</td>\n",
       "    </tr>\n",
       "    <tr>\n",
       "      <th>4</th>\n",
       "      <td>LP001008</td>\n",
       "      <td>Male</td>\n",
       "      <td>No</td>\n",
       "      <td>0</td>\n",
       "      <td>Graduate</td>\n",
       "      <td>No</td>\n",
       "      <td>6000</td>\n",
       "      <td>0.0</td>\n",
       "      <td>141.0</td>\n",
       "      <td>360.0</td>\n",
       "      <td>1.0</td>\n",
       "      <td>Urban</td>\n",
       "      <td>Y</td>\n",
       "    </tr>\n",
       "    <tr>\n",
       "      <th>...</th>\n",
       "      <td>...</td>\n",
       "      <td>...</td>\n",
       "      <td>...</td>\n",
       "      <td>...</td>\n",
       "      <td>...</td>\n",
       "      <td>...</td>\n",
       "      <td>...</td>\n",
       "      <td>...</td>\n",
       "      <td>...</td>\n",
       "      <td>...</td>\n",
       "      <td>...</td>\n",
       "      <td>...</td>\n",
       "      <td>...</td>\n",
       "    </tr>\n",
       "    <tr>\n",
       "      <th>609</th>\n",
       "      <td>LP002978</td>\n",
       "      <td>Female</td>\n",
       "      <td>No</td>\n",
       "      <td>0</td>\n",
       "      <td>Graduate</td>\n",
       "      <td>No</td>\n",
       "      <td>2900</td>\n",
       "      <td>0.0</td>\n",
       "      <td>71.0</td>\n",
       "      <td>360.0</td>\n",
       "      <td>1.0</td>\n",
       "      <td>Rural</td>\n",
       "      <td>Y</td>\n",
       "    </tr>\n",
       "    <tr>\n",
       "      <th>610</th>\n",
       "      <td>LP002979</td>\n",
       "      <td>Male</td>\n",
       "      <td>Yes</td>\n",
       "      <td>3+</td>\n",
       "      <td>Graduate</td>\n",
       "      <td>No</td>\n",
       "      <td>4106</td>\n",
       "      <td>0.0</td>\n",
       "      <td>40.0</td>\n",
       "      <td>180.0</td>\n",
       "      <td>1.0</td>\n",
       "      <td>Rural</td>\n",
       "      <td>Y</td>\n",
       "    </tr>\n",
       "    <tr>\n",
       "      <th>611</th>\n",
       "      <td>LP002983</td>\n",
       "      <td>Male</td>\n",
       "      <td>Yes</td>\n",
       "      <td>1</td>\n",
       "      <td>Graduate</td>\n",
       "      <td>No</td>\n",
       "      <td>8072</td>\n",
       "      <td>240.0</td>\n",
       "      <td>253.0</td>\n",
       "      <td>360.0</td>\n",
       "      <td>1.0</td>\n",
       "      <td>Urban</td>\n",
       "      <td>Y</td>\n",
       "    </tr>\n",
       "    <tr>\n",
       "      <th>612</th>\n",
       "      <td>LP002984</td>\n",
       "      <td>Male</td>\n",
       "      <td>Yes</td>\n",
       "      <td>2</td>\n",
       "      <td>Graduate</td>\n",
       "      <td>No</td>\n",
       "      <td>7583</td>\n",
       "      <td>0.0</td>\n",
       "      <td>187.0</td>\n",
       "      <td>360.0</td>\n",
       "      <td>1.0</td>\n",
       "      <td>Urban</td>\n",
       "      <td>Y</td>\n",
       "    </tr>\n",
       "    <tr>\n",
       "      <th>613</th>\n",
       "      <td>LP002990</td>\n",
       "      <td>Female</td>\n",
       "      <td>No</td>\n",
       "      <td>0</td>\n",
       "      <td>Graduate</td>\n",
       "      <td>Yes</td>\n",
       "      <td>4583</td>\n",
       "      <td>0.0</td>\n",
       "      <td>133.0</td>\n",
       "      <td>360.0</td>\n",
       "      <td>0.0</td>\n",
       "      <td>Semiurban</td>\n",
       "      <td>N</td>\n",
       "    </tr>\n",
       "  </tbody>\n",
       "</table>\n",
       "<p>614 rows × 13 columns</p>\n",
       "</div>"
      ],
      "text/plain": [
       "      Loan_ID  Gender Married Dependents     Education Self_Employed   \n",
       "0    LP001002    Male      No          0      Graduate            No  \\\n",
       "1    LP001003    Male     Yes          1      Graduate            No   \n",
       "2    LP001005    Male     Yes          0      Graduate           Yes   \n",
       "3    LP001006    Male     Yes          0  Not Graduate            No   \n",
       "4    LP001008    Male      No          0      Graduate            No   \n",
       "..        ...     ...     ...        ...           ...           ...   \n",
       "609  LP002978  Female      No          0      Graduate            No   \n",
       "610  LP002979    Male     Yes         3+      Graduate            No   \n",
       "611  LP002983    Male     Yes          1      Graduate            No   \n",
       "612  LP002984    Male     Yes          2      Graduate            No   \n",
       "613  LP002990  Female      No          0      Graduate           Yes   \n",
       "\n",
       "     ApplicantIncome  CoapplicantIncome  LoanAmount  Loan_Amount_Term   \n",
       "0               5849                0.0         NaN             360.0  \\\n",
       "1               4583             1508.0       128.0             360.0   \n",
       "2               3000                0.0        66.0             360.0   \n",
       "3               2583             2358.0       120.0             360.0   \n",
       "4               6000                0.0       141.0             360.0   \n",
       "..               ...                ...         ...               ...   \n",
       "609             2900                0.0        71.0             360.0   \n",
       "610             4106                0.0        40.0             180.0   \n",
       "611             8072              240.0       253.0             360.0   \n",
       "612             7583                0.0       187.0             360.0   \n",
       "613             4583                0.0       133.0             360.0   \n",
       "\n",
       "     Credit_History Property_Area Loan_Status  \n",
       "0               1.0         Urban           Y  \n",
       "1               1.0         Rural           N  \n",
       "2               1.0         Urban           Y  \n",
       "3               1.0         Urban           Y  \n",
       "4               1.0         Urban           Y  \n",
       "..              ...           ...         ...  \n",
       "609             1.0         Rural           Y  \n",
       "610             1.0         Rural           Y  \n",
       "611             1.0         Urban           Y  \n",
       "612             1.0         Urban           Y  \n",
       "613             0.0     Semiurban           N  \n",
       "\n",
       "[614 rows x 13 columns]"
      ]
     },
     "execution_count": 722,
     "metadata": {},
     "output_type": "execute_result"
    }
   ],
   "source": [
    "df=pd.read_csv('train_ctrUa4K.csv')\n",
    "df"
   ]
  },
  {
   "cell_type": "code",
   "execution_count": 723,
   "id": "685835cb",
   "metadata": {},
   "outputs": [
    {
     "data": {
      "text/plain": [
       "(614, 13)"
      ]
     },
     "execution_count": 723,
     "metadata": {},
     "output_type": "execute_result"
    }
   ],
   "source": [
    "# number of rows and columns\n",
    "df.shape"
   ]
  },
  {
   "cell_type": "code",
   "execution_count": 724,
   "id": "e98352bf",
   "metadata": {},
   "outputs": [
    {
     "name": "stdout",
     "output_type": "stream",
     "text": [
      "<class 'pandas.core.frame.DataFrame'>\n",
      "RangeIndex: 614 entries, 0 to 613\n",
      "Data columns (total 13 columns):\n",
      " #   Column             Non-Null Count  Dtype  \n",
      "---  ------             --------------  -----  \n",
      " 0   Loan_ID            614 non-null    object \n",
      " 1   Gender             601 non-null    object \n",
      " 2   Married            611 non-null    object \n",
      " 3   Dependents         599 non-null    object \n",
      " 4   Education          614 non-null    object \n",
      " 5   Self_Employed      582 non-null    object \n",
      " 6   ApplicantIncome    614 non-null    int64  \n",
      " 7   CoapplicantIncome  614 non-null    float64\n",
      " 8   LoanAmount         592 non-null    float64\n",
      " 9   Loan_Amount_Term   600 non-null    float64\n",
      " 10  Credit_History     564 non-null    float64\n",
      " 11  Property_Area      614 non-null    object \n",
      " 12  Loan_Status        614 non-null    object \n",
      "dtypes: float64(4), int64(1), object(8)\n",
      "memory usage: 62.5+ KB\n"
     ]
    }
   ],
   "source": [
    "#Print summary of DataFrame\n",
    "df.info()"
   ]
  },
  {
   "cell_type": "code",
   "execution_count": 725,
   "id": "b6f834e7",
   "metadata": {},
   "outputs": [
    {
     "data": {
      "text/plain": [
       "0"
      ]
     },
     "execution_count": 725,
     "metadata": {},
     "output_type": "execute_result"
    }
   ],
   "source": [
    "#check the Duplicated Data \n",
    "df.duplicated().sum()"
   ]
  },
  {
   "cell_type": "code",
   "execution_count": 726,
   "id": "90a63f93",
   "metadata": {
    "scrolled": false
   },
   "outputs": [
    {
     "data": {
      "text/plain": [
       "Loan_ID               0\n",
       "Gender               13\n",
       "Married               3\n",
       "Dependents           15\n",
       "Education             0\n",
       "Self_Employed        32\n",
       "ApplicantIncome       0\n",
       "CoapplicantIncome     0\n",
       "LoanAmount           22\n",
       "Loan_Amount_Term     14\n",
       "Credit_History       50\n",
       "Property_Area         0\n",
       "Loan_Status           0\n",
       "dtype: int64"
      ]
     },
     "execution_count": 726,
     "metadata": {},
     "output_type": "execute_result"
    }
   ],
   "source": [
    "# number of missing values in each column\n",
    "df.isna().sum()"
   ]
  },
  {
   "cell_type": "code",
   "execution_count": 727,
   "id": "15e74f5c",
   "metadata": {
    "scrolled": true
   },
   "outputs": [
    {
     "data": {
      "text/plain": [
       "Loan_ID              0.000000\n",
       "Gender               2.117264\n",
       "Married              0.488599\n",
       "Dependents           2.442997\n",
       "Education            0.000000\n",
       "Self_Employed        5.211726\n",
       "ApplicantIncome      0.000000\n",
       "CoapplicantIncome    0.000000\n",
       "LoanAmount           3.583062\n",
       "Loan_Amount_Term     2.280130\n",
       "Credit_History       8.143322\n",
       "Property_Area        0.000000\n",
       "Loan_Status          0.000000\n",
       "dtype: float64"
      ]
     },
     "execution_count": 727,
     "metadata": {},
     "output_type": "execute_result"
    }
   ],
   "source": [
    "df.isnull().mean()*100\n",
    "#perecentage of missing values\n",
    "#delete missing data "
   ]
  },
  {
   "cell_type": "code",
   "execution_count": 728,
   "id": "1d64ce8d",
   "metadata": {},
   "outputs": [],
   "source": [
    "df.dropna(inplace=True)"
   ]
  },
  {
   "cell_type": "code",
   "execution_count": 729,
   "id": "d3ff55da",
   "metadata": {
    "scrolled": false
   },
   "outputs": [
    {
     "data": {
      "text/plain": [
       "Loan_ID              0\n",
       "Gender               0\n",
       "Married              0\n",
       "Dependents           0\n",
       "Education            0\n",
       "Self_Employed        0\n",
       "ApplicantIncome      0\n",
       "CoapplicantIncome    0\n",
       "LoanAmount           0\n",
       "Loan_Amount_Term     0\n",
       "Credit_History       0\n",
       "Property_Area        0\n",
       "Loan_Status          0\n",
       "dtype: int64"
      ]
     },
     "execution_count": 729,
     "metadata": {},
     "output_type": "execute_result"
    }
   ],
   "source": [
    "df.isna().sum()"
   ]
  },
  {
   "cell_type": "code",
   "execution_count": 730,
   "id": "1247d177",
   "metadata": {},
   "outputs": [],
   "source": [
    "df.reset_index(drop=True,inplace=True)"
   ]
  },
  {
   "cell_type": "code",
   "execution_count": 731,
   "id": "2a458f49",
   "metadata": {},
   "outputs": [],
   "source": [
    "#drop unimportant columns\n",
    "df.drop(['Loan_ID'],axis=1,inplace=True)"
   ]
  },
  {
   "cell_type": "code",
   "execution_count": 732,
   "id": "4f028589",
   "metadata": {},
   "outputs": [
    {
     "data": {
      "text/html": [
       "<div>\n",
       "<style scoped>\n",
       "    .dataframe tbody tr th:only-of-type {\n",
       "        vertical-align: middle;\n",
       "    }\n",
       "\n",
       "    .dataframe tbody tr th {\n",
       "        vertical-align: top;\n",
       "    }\n",
       "\n",
       "    .dataframe thead th {\n",
       "        text-align: right;\n",
       "    }\n",
       "</style>\n",
       "<table border=\"1\" class=\"dataframe\">\n",
       "  <thead>\n",
       "    <tr style=\"text-align: right;\">\n",
       "      <th></th>\n",
       "      <th>Gender</th>\n",
       "      <th>Married</th>\n",
       "      <th>Dependents</th>\n",
       "      <th>Education</th>\n",
       "      <th>Self_Employed</th>\n",
       "      <th>ApplicantIncome</th>\n",
       "      <th>CoapplicantIncome</th>\n",
       "      <th>LoanAmount</th>\n",
       "      <th>Loan_Amount_Term</th>\n",
       "      <th>Credit_History</th>\n",
       "      <th>Property_Area</th>\n",
       "      <th>Loan_Status</th>\n",
       "    </tr>\n",
       "  </thead>\n",
       "  <tbody>\n",
       "    <tr>\n",
       "      <th>0</th>\n",
       "      <td>Male</td>\n",
       "      <td>Yes</td>\n",
       "      <td>1</td>\n",
       "      <td>Graduate</td>\n",
       "      <td>No</td>\n",
       "      <td>4583</td>\n",
       "      <td>1508.0</td>\n",
       "      <td>128.0</td>\n",
       "      <td>360.0</td>\n",
       "      <td>1.0</td>\n",
       "      <td>Rural</td>\n",
       "      <td>N</td>\n",
       "    </tr>\n",
       "    <tr>\n",
       "      <th>1</th>\n",
       "      <td>Male</td>\n",
       "      <td>Yes</td>\n",
       "      <td>0</td>\n",
       "      <td>Graduate</td>\n",
       "      <td>Yes</td>\n",
       "      <td>3000</td>\n",
       "      <td>0.0</td>\n",
       "      <td>66.0</td>\n",
       "      <td>360.0</td>\n",
       "      <td>1.0</td>\n",
       "      <td>Urban</td>\n",
       "      <td>Y</td>\n",
       "    </tr>\n",
       "    <tr>\n",
       "      <th>2</th>\n",
       "      <td>Male</td>\n",
       "      <td>Yes</td>\n",
       "      <td>0</td>\n",
       "      <td>Not Graduate</td>\n",
       "      <td>No</td>\n",
       "      <td>2583</td>\n",
       "      <td>2358.0</td>\n",
       "      <td>120.0</td>\n",
       "      <td>360.0</td>\n",
       "      <td>1.0</td>\n",
       "      <td>Urban</td>\n",
       "      <td>Y</td>\n",
       "    </tr>\n",
       "    <tr>\n",
       "      <th>3</th>\n",
       "      <td>Male</td>\n",
       "      <td>No</td>\n",
       "      <td>0</td>\n",
       "      <td>Graduate</td>\n",
       "      <td>No</td>\n",
       "      <td>6000</td>\n",
       "      <td>0.0</td>\n",
       "      <td>141.0</td>\n",
       "      <td>360.0</td>\n",
       "      <td>1.0</td>\n",
       "      <td>Urban</td>\n",
       "      <td>Y</td>\n",
       "    </tr>\n",
       "    <tr>\n",
       "      <th>4</th>\n",
       "      <td>Male</td>\n",
       "      <td>Yes</td>\n",
       "      <td>2</td>\n",
       "      <td>Graduate</td>\n",
       "      <td>Yes</td>\n",
       "      <td>5417</td>\n",
       "      <td>4196.0</td>\n",
       "      <td>267.0</td>\n",
       "      <td>360.0</td>\n",
       "      <td>1.0</td>\n",
       "      <td>Urban</td>\n",
       "      <td>Y</td>\n",
       "    </tr>\n",
       "    <tr>\n",
       "      <th>...</th>\n",
       "      <td>...</td>\n",
       "      <td>...</td>\n",
       "      <td>...</td>\n",
       "      <td>...</td>\n",
       "      <td>...</td>\n",
       "      <td>...</td>\n",
       "      <td>...</td>\n",
       "      <td>...</td>\n",
       "      <td>...</td>\n",
       "      <td>...</td>\n",
       "      <td>...</td>\n",
       "      <td>...</td>\n",
       "    </tr>\n",
       "    <tr>\n",
       "      <th>475</th>\n",
       "      <td>Female</td>\n",
       "      <td>No</td>\n",
       "      <td>0</td>\n",
       "      <td>Graduate</td>\n",
       "      <td>No</td>\n",
       "      <td>2900</td>\n",
       "      <td>0.0</td>\n",
       "      <td>71.0</td>\n",
       "      <td>360.0</td>\n",
       "      <td>1.0</td>\n",
       "      <td>Rural</td>\n",
       "      <td>Y</td>\n",
       "    </tr>\n",
       "    <tr>\n",
       "      <th>476</th>\n",
       "      <td>Male</td>\n",
       "      <td>Yes</td>\n",
       "      <td>3+</td>\n",
       "      <td>Graduate</td>\n",
       "      <td>No</td>\n",
       "      <td>4106</td>\n",
       "      <td>0.0</td>\n",
       "      <td>40.0</td>\n",
       "      <td>180.0</td>\n",
       "      <td>1.0</td>\n",
       "      <td>Rural</td>\n",
       "      <td>Y</td>\n",
       "    </tr>\n",
       "    <tr>\n",
       "      <th>477</th>\n",
       "      <td>Male</td>\n",
       "      <td>Yes</td>\n",
       "      <td>1</td>\n",
       "      <td>Graduate</td>\n",
       "      <td>No</td>\n",
       "      <td>8072</td>\n",
       "      <td>240.0</td>\n",
       "      <td>253.0</td>\n",
       "      <td>360.0</td>\n",
       "      <td>1.0</td>\n",
       "      <td>Urban</td>\n",
       "      <td>Y</td>\n",
       "    </tr>\n",
       "    <tr>\n",
       "      <th>478</th>\n",
       "      <td>Male</td>\n",
       "      <td>Yes</td>\n",
       "      <td>2</td>\n",
       "      <td>Graduate</td>\n",
       "      <td>No</td>\n",
       "      <td>7583</td>\n",
       "      <td>0.0</td>\n",
       "      <td>187.0</td>\n",
       "      <td>360.0</td>\n",
       "      <td>1.0</td>\n",
       "      <td>Urban</td>\n",
       "      <td>Y</td>\n",
       "    </tr>\n",
       "    <tr>\n",
       "      <th>479</th>\n",
       "      <td>Female</td>\n",
       "      <td>No</td>\n",
       "      <td>0</td>\n",
       "      <td>Graduate</td>\n",
       "      <td>Yes</td>\n",
       "      <td>4583</td>\n",
       "      <td>0.0</td>\n",
       "      <td>133.0</td>\n",
       "      <td>360.0</td>\n",
       "      <td>0.0</td>\n",
       "      <td>Semiurban</td>\n",
       "      <td>N</td>\n",
       "    </tr>\n",
       "  </tbody>\n",
       "</table>\n",
       "<p>480 rows × 12 columns</p>\n",
       "</div>"
      ],
      "text/plain": [
       "     Gender Married Dependents     Education Self_Employed  ApplicantIncome   \n",
       "0      Male     Yes          1      Graduate            No             4583  \\\n",
       "1      Male     Yes          0      Graduate           Yes             3000   \n",
       "2      Male     Yes          0  Not Graduate            No             2583   \n",
       "3      Male      No          0      Graduate            No             6000   \n",
       "4      Male     Yes          2      Graduate           Yes             5417   \n",
       "..      ...     ...        ...           ...           ...              ...   \n",
       "475  Female      No          0      Graduate            No             2900   \n",
       "476    Male     Yes         3+      Graduate            No             4106   \n",
       "477    Male     Yes          1      Graduate            No             8072   \n",
       "478    Male     Yes          2      Graduate            No             7583   \n",
       "479  Female      No          0      Graduate           Yes             4583   \n",
       "\n",
       "     CoapplicantIncome  LoanAmount  Loan_Amount_Term  Credit_History   \n",
       "0               1508.0       128.0             360.0             1.0  \\\n",
       "1                  0.0        66.0             360.0             1.0   \n",
       "2               2358.0       120.0             360.0             1.0   \n",
       "3                  0.0       141.0             360.0             1.0   \n",
       "4               4196.0       267.0             360.0             1.0   \n",
       "..                 ...         ...               ...             ...   \n",
       "475                0.0        71.0             360.0             1.0   \n",
       "476                0.0        40.0             180.0             1.0   \n",
       "477              240.0       253.0             360.0             1.0   \n",
       "478                0.0       187.0             360.0             1.0   \n",
       "479                0.0       133.0             360.0             0.0   \n",
       "\n",
       "    Property_Area Loan_Status  \n",
       "0           Rural           N  \n",
       "1           Urban           Y  \n",
       "2           Urban           Y  \n",
       "3           Urban           Y  \n",
       "4           Urban           Y  \n",
       "..            ...         ...  \n",
       "475         Rural           Y  \n",
       "476         Rural           Y  \n",
       "477         Urban           Y  \n",
       "478         Urban           Y  \n",
       "479     Semiurban           N  \n",
       "\n",
       "[480 rows x 12 columns]"
      ]
     },
     "execution_count": 732,
     "metadata": {},
     "output_type": "execute_result"
    }
   ],
   "source": [
    "df"
   ]
  },
  {
   "cell_type": "markdown",
   "id": "c2686840",
   "metadata": {},
   "source": [
    "<h1 style=\"font-family:Times New Roman; font-size:6m;color:BLUE;\"><em> UniVariate Analysis</em> </h1>"
   ]
  },
  {
   "cell_type": "code",
   "execution_count": 733,
   "id": "0b24d3c2",
   "metadata": {},
   "outputs": [
    {
     "data": {
      "text/plain": [
       "Index(['Gender', 'Married', 'Dependents', 'Education', 'Self_Employed',\n",
       "       'ApplicantIncome', 'CoapplicantIncome', 'LoanAmount',\n",
       "       'Loan_Amount_Term', 'Credit_History', 'Property_Area', 'Loan_Status'],\n",
       "      dtype='object')"
      ]
     },
     "execution_count": 733,
     "metadata": {},
     "output_type": "execute_result"
    }
   ],
   "source": [
    "df.columns"
   ]
  },
  {
   "cell_type": "markdown",
   "id": "07e5847f",
   "metadata": {},
   "source": [
    "### - Gender"
   ]
  },
  {
   "cell_type": "code",
   "execution_count": 734,
   "id": "80fc4f8f",
   "metadata": {},
   "outputs": [
    {
     "data": {
      "text/plain": [
       "Gender\n",
       "Male      394\n",
       "Female     86\n",
       "Name: count, dtype: int64"
      ]
     },
     "execution_count": 734,
     "metadata": {},
     "output_type": "execute_result"
    }
   ],
   "source": [
    "df['Gender'].value_counts()"
   ]
  },
  {
   "cell_type": "code",
   "execution_count": 735,
   "id": "147645af",
   "metadata": {},
   "outputs": [
    {
     "data": {
      "text/plain": [
       "Gender\n",
       "Male      82.083333\n",
       "Female    17.916667\n",
       "Name: proportion, dtype: float64"
      ]
     },
     "execution_count": 735,
     "metadata": {},
     "output_type": "execute_result"
    }
   ],
   "source": [
    "#categorical \n",
    "# make Gender perecentage\n",
    "df['Gender'].value_counts(normalize=True)*100\n"
   ]
  },
  {
   "cell_type": "markdown",
   "id": "18f5fe75",
   "metadata": {},
   "source": [
    "### - Married\n"
   ]
  },
  {
   "cell_type": "code",
   "execution_count": 736,
   "id": "b70f731f",
   "metadata": {
    "scrolled": true
   },
   "outputs": [
    {
     "data": {
      "text/plain": [
       "Married\n",
       "Yes    311\n",
       "No     169\n",
       "Name: count, dtype: int64"
      ]
     },
     "execution_count": 736,
     "metadata": {},
     "output_type": "execute_result"
    }
   ],
   "source": [
    "df['Married'].value_counts()"
   ]
  },
  {
   "cell_type": "code",
   "execution_count": 737,
   "id": "a26e93f1",
   "metadata": {
    "scrolled": true
   },
   "outputs": [
    {
     "data": {
      "text/plain": [
       "Married\n",
       "Yes    64.791667\n",
       "No     35.208333\n",
       "Name: proportion, dtype: float64"
      ]
     },
     "execution_count": 737,
     "metadata": {},
     "output_type": "execute_result"
    }
   ],
   "source": [
    "#categorical \n",
    "# make Gender perecentage\n",
    "df['Married'].value_counts(normalize=True)*100"
   ]
  },
  {
   "cell_type": "markdown",
   "id": "598d6064",
   "metadata": {},
   "source": [
    "### - Dependents"
   ]
  },
  {
   "cell_type": "code",
   "execution_count": 738,
   "id": "9326b40d",
   "metadata": {},
   "outputs": [
    {
     "data": {
      "text/plain": [
       "Dependents\n",
       "0     274\n",
       "2      85\n",
       "1      80\n",
       "3+     41\n",
       "Name: count, dtype: int64"
      ]
     },
     "execution_count": 738,
     "metadata": {},
     "output_type": "execute_result"
    }
   ],
   "source": [
    "df['Dependents'].value_counts()"
   ]
  },
  {
   "cell_type": "code",
   "execution_count": null,
   "id": "370ac3a8",
   "metadata": {},
   "outputs": [],
   "source": []
  },
  {
   "cell_type": "code",
   "execution_count": 739,
   "id": "f783306b",
   "metadata": {},
   "outputs": [
    {
     "data": {
      "text/plain": [
       "array(['1', '0', '2', '3+'], dtype=object)"
      ]
     },
     "execution_count": 739,
     "metadata": {},
     "output_type": "execute_result"
    }
   ],
   "source": [
    "df['Dependents'].unique()"
   ]
  },
  {
   "cell_type": "code",
   "execution_count": 740,
   "id": "91433218",
   "metadata": {},
   "outputs": [
    {
     "data": {
      "text/plain": [
       "\"\\ndef fix_dependance(d):\\n    if pd.notna(d):\\n        s = str(d).split()[0]\\n        if s.endswith('+'):\\n            return int(s[:-1])\\n        else:\\n            return int(s)\\n    else:\\n        return np.nan\\n\""
      ]
     },
     "execution_count": 740,
     "metadata": {},
     "output_type": "execute_result"
    }
   ],
   "source": [
    "\n",
    "'''\n",
    "def fix_dependance(d):\n",
    "    if pd.notna(d):\n",
    "        s = str(d).split()[0]\n",
    "        if s.endswith('+'):\n",
    "            return int(s[:-1])\n",
    "        else:\n",
    "            return int(s)\n",
    "    else:\n",
    "        return np.nan\n",
    "'''\n"
   ]
  },
  {
   "cell_type": "code",
   "execution_count": 741,
   "id": "82927f8c",
   "metadata": {},
   "outputs": [],
   "source": [
    "#df['Dependents'] = df['Dependents'].apply(fix_dependance)"
   ]
  },
  {
   "cell_type": "code",
   "execution_count": 742,
   "id": "2b9faa30",
   "metadata": {},
   "outputs": [
    {
     "data": {
      "text/html": [
       "<div>\n",
       "<style scoped>\n",
       "    .dataframe tbody tr th:only-of-type {\n",
       "        vertical-align: middle;\n",
       "    }\n",
       "\n",
       "    .dataframe tbody tr th {\n",
       "        vertical-align: top;\n",
       "    }\n",
       "\n",
       "    .dataframe thead th {\n",
       "        text-align: right;\n",
       "    }\n",
       "</style>\n",
       "<table border=\"1\" class=\"dataframe\">\n",
       "  <thead>\n",
       "    <tr style=\"text-align: right;\">\n",
       "      <th></th>\n",
       "      <th>Gender</th>\n",
       "      <th>Married</th>\n",
       "      <th>Dependents</th>\n",
       "      <th>Education</th>\n",
       "      <th>Self_Employed</th>\n",
       "      <th>ApplicantIncome</th>\n",
       "      <th>CoapplicantIncome</th>\n",
       "      <th>LoanAmount</th>\n",
       "      <th>Loan_Amount_Term</th>\n",
       "      <th>Credit_History</th>\n",
       "      <th>Property_Area</th>\n",
       "      <th>Loan_Status</th>\n",
       "    </tr>\n",
       "  </thead>\n",
       "  <tbody>\n",
       "    <tr>\n",
       "      <th>0</th>\n",
       "      <td>Male</td>\n",
       "      <td>Yes</td>\n",
       "      <td>1</td>\n",
       "      <td>Graduate</td>\n",
       "      <td>No</td>\n",
       "      <td>4583</td>\n",
       "      <td>1508.0</td>\n",
       "      <td>128.0</td>\n",
       "      <td>360.0</td>\n",
       "      <td>1.0</td>\n",
       "      <td>Rural</td>\n",
       "      <td>N</td>\n",
       "    </tr>\n",
       "    <tr>\n",
       "      <th>1</th>\n",
       "      <td>Male</td>\n",
       "      <td>Yes</td>\n",
       "      <td>0</td>\n",
       "      <td>Graduate</td>\n",
       "      <td>Yes</td>\n",
       "      <td>3000</td>\n",
       "      <td>0.0</td>\n",
       "      <td>66.0</td>\n",
       "      <td>360.0</td>\n",
       "      <td>1.0</td>\n",
       "      <td>Urban</td>\n",
       "      <td>Y</td>\n",
       "    </tr>\n",
       "    <tr>\n",
       "      <th>2</th>\n",
       "      <td>Male</td>\n",
       "      <td>Yes</td>\n",
       "      <td>0</td>\n",
       "      <td>Not Graduate</td>\n",
       "      <td>No</td>\n",
       "      <td>2583</td>\n",
       "      <td>2358.0</td>\n",
       "      <td>120.0</td>\n",
       "      <td>360.0</td>\n",
       "      <td>1.0</td>\n",
       "      <td>Urban</td>\n",
       "      <td>Y</td>\n",
       "    </tr>\n",
       "    <tr>\n",
       "      <th>3</th>\n",
       "      <td>Male</td>\n",
       "      <td>No</td>\n",
       "      <td>0</td>\n",
       "      <td>Graduate</td>\n",
       "      <td>No</td>\n",
       "      <td>6000</td>\n",
       "      <td>0.0</td>\n",
       "      <td>141.0</td>\n",
       "      <td>360.0</td>\n",
       "      <td>1.0</td>\n",
       "      <td>Urban</td>\n",
       "      <td>Y</td>\n",
       "    </tr>\n",
       "    <tr>\n",
       "      <th>4</th>\n",
       "      <td>Male</td>\n",
       "      <td>Yes</td>\n",
       "      <td>2</td>\n",
       "      <td>Graduate</td>\n",
       "      <td>Yes</td>\n",
       "      <td>5417</td>\n",
       "      <td>4196.0</td>\n",
       "      <td>267.0</td>\n",
       "      <td>360.0</td>\n",
       "      <td>1.0</td>\n",
       "      <td>Urban</td>\n",
       "      <td>Y</td>\n",
       "    </tr>\n",
       "    <tr>\n",
       "      <th>...</th>\n",
       "      <td>...</td>\n",
       "      <td>...</td>\n",
       "      <td>...</td>\n",
       "      <td>...</td>\n",
       "      <td>...</td>\n",
       "      <td>...</td>\n",
       "      <td>...</td>\n",
       "      <td>...</td>\n",
       "      <td>...</td>\n",
       "      <td>...</td>\n",
       "      <td>...</td>\n",
       "      <td>...</td>\n",
       "    </tr>\n",
       "    <tr>\n",
       "      <th>475</th>\n",
       "      <td>Female</td>\n",
       "      <td>No</td>\n",
       "      <td>0</td>\n",
       "      <td>Graduate</td>\n",
       "      <td>No</td>\n",
       "      <td>2900</td>\n",
       "      <td>0.0</td>\n",
       "      <td>71.0</td>\n",
       "      <td>360.0</td>\n",
       "      <td>1.0</td>\n",
       "      <td>Rural</td>\n",
       "      <td>Y</td>\n",
       "    </tr>\n",
       "    <tr>\n",
       "      <th>476</th>\n",
       "      <td>Male</td>\n",
       "      <td>Yes</td>\n",
       "      <td>3+</td>\n",
       "      <td>Graduate</td>\n",
       "      <td>No</td>\n",
       "      <td>4106</td>\n",
       "      <td>0.0</td>\n",
       "      <td>40.0</td>\n",
       "      <td>180.0</td>\n",
       "      <td>1.0</td>\n",
       "      <td>Rural</td>\n",
       "      <td>Y</td>\n",
       "    </tr>\n",
       "    <tr>\n",
       "      <th>477</th>\n",
       "      <td>Male</td>\n",
       "      <td>Yes</td>\n",
       "      <td>1</td>\n",
       "      <td>Graduate</td>\n",
       "      <td>No</td>\n",
       "      <td>8072</td>\n",
       "      <td>240.0</td>\n",
       "      <td>253.0</td>\n",
       "      <td>360.0</td>\n",
       "      <td>1.0</td>\n",
       "      <td>Urban</td>\n",
       "      <td>Y</td>\n",
       "    </tr>\n",
       "    <tr>\n",
       "      <th>478</th>\n",
       "      <td>Male</td>\n",
       "      <td>Yes</td>\n",
       "      <td>2</td>\n",
       "      <td>Graduate</td>\n",
       "      <td>No</td>\n",
       "      <td>7583</td>\n",
       "      <td>0.0</td>\n",
       "      <td>187.0</td>\n",
       "      <td>360.0</td>\n",
       "      <td>1.0</td>\n",
       "      <td>Urban</td>\n",
       "      <td>Y</td>\n",
       "    </tr>\n",
       "    <tr>\n",
       "      <th>479</th>\n",
       "      <td>Female</td>\n",
       "      <td>No</td>\n",
       "      <td>0</td>\n",
       "      <td>Graduate</td>\n",
       "      <td>Yes</td>\n",
       "      <td>4583</td>\n",
       "      <td>0.0</td>\n",
       "      <td>133.0</td>\n",
       "      <td>360.0</td>\n",
       "      <td>0.0</td>\n",
       "      <td>Semiurban</td>\n",
       "      <td>N</td>\n",
       "    </tr>\n",
       "  </tbody>\n",
       "</table>\n",
       "<p>480 rows × 12 columns</p>\n",
       "</div>"
      ],
      "text/plain": [
       "     Gender Married Dependents     Education Self_Employed  ApplicantIncome   \n",
       "0      Male     Yes          1      Graduate            No             4583  \\\n",
       "1      Male     Yes          0      Graduate           Yes             3000   \n",
       "2      Male     Yes          0  Not Graduate            No             2583   \n",
       "3      Male      No          0      Graduate            No             6000   \n",
       "4      Male     Yes          2      Graduate           Yes             5417   \n",
       "..      ...     ...        ...           ...           ...              ...   \n",
       "475  Female      No          0      Graduate            No             2900   \n",
       "476    Male     Yes         3+      Graduate            No             4106   \n",
       "477    Male     Yes          1      Graduate            No             8072   \n",
       "478    Male     Yes          2      Graduate            No             7583   \n",
       "479  Female      No          0      Graduate           Yes             4583   \n",
       "\n",
       "     CoapplicantIncome  LoanAmount  Loan_Amount_Term  Credit_History   \n",
       "0               1508.0       128.0             360.0             1.0  \\\n",
       "1                  0.0        66.0             360.0             1.0   \n",
       "2               2358.0       120.0             360.0             1.0   \n",
       "3                  0.0       141.0             360.0             1.0   \n",
       "4               4196.0       267.0             360.0             1.0   \n",
       "..                 ...         ...               ...             ...   \n",
       "475                0.0        71.0             360.0             1.0   \n",
       "476                0.0        40.0             180.0             1.0   \n",
       "477              240.0       253.0             360.0             1.0   \n",
       "478                0.0       187.0             360.0             1.0   \n",
       "479                0.0       133.0             360.0             0.0   \n",
       "\n",
       "    Property_Area Loan_Status  \n",
       "0           Rural           N  \n",
       "1           Urban           Y  \n",
       "2           Urban           Y  \n",
       "3           Urban           Y  \n",
       "4           Urban           Y  \n",
       "..            ...         ...  \n",
       "475         Rural           Y  \n",
       "476         Rural           Y  \n",
       "477         Urban           Y  \n",
       "478         Urban           Y  \n",
       "479     Semiurban           N  \n",
       "\n",
       "[480 rows x 12 columns]"
      ]
     },
     "execution_count": 742,
     "metadata": {},
     "output_type": "execute_result"
    }
   ],
   "source": [
    "df"
   ]
  },
  {
   "cell_type": "markdown",
   "id": "c8657b62",
   "metadata": {},
   "source": [
    "### -Education\n"
   ]
  },
  {
   "cell_type": "code",
   "execution_count": 743,
   "id": "15e1334b",
   "metadata": {},
   "outputs": [
    {
     "data": {
      "text/plain": [
       "Education\n",
       "Graduate        383\n",
       "Not Graduate     97\n",
       "Name: count, dtype: int64"
      ]
     },
     "execution_count": 743,
     "metadata": {},
     "output_type": "execute_result"
    }
   ],
   "source": [
    "df['Education'].value_counts()"
   ]
  },
  {
   "cell_type": "code",
   "execution_count": 744,
   "id": "e09c01e8",
   "metadata": {},
   "outputs": [
    {
     "data": {
      "text/plain": [
       "Education\n",
       "Graduate        79.791667\n",
       "Not Graduate    20.208333\n",
       "Name: proportion, dtype: float64"
      ]
     },
     "execution_count": 744,
     "metadata": {},
     "output_type": "execute_result"
    }
   ],
   "source": [
    "#categorical \n",
    "# make Education perecentage\n",
    "df['Education'].value_counts(normalize=True)*100"
   ]
  },
  {
   "cell_type": "markdown",
   "id": "b2cc344b",
   "metadata": {},
   "source": [
    "### -Self_Employed"
   ]
  },
  {
   "cell_type": "code",
   "execution_count": 745,
   "id": "d263b184",
   "metadata": {
    "scrolled": true
   },
   "outputs": [
    {
     "data": {
      "text/plain": [
       "Self_Employed\n",
       "No     414\n",
       "Yes     66\n",
       "Name: count, dtype: int64"
      ]
     },
     "execution_count": 745,
     "metadata": {},
     "output_type": "execute_result"
    }
   ],
   "source": [
    "df['Self_Employed'].value_counts()"
   ]
  },
  {
   "cell_type": "code",
   "execution_count": 746,
   "id": "0d9985ff",
   "metadata": {},
   "outputs": [
    {
     "data": {
      "text/plain": [
       "Self_Employed\n",
       "No     86.25\n",
       "Yes    13.75\n",
       "Name: proportion, dtype: float64"
      ]
     },
     "execution_count": 746,
     "metadata": {},
     "output_type": "execute_result"
    }
   ],
   "source": [
    "#categorical \n",
    "# make Education perecentage\n",
    "df['Self_Employed'].value_counts(normalize=True)*100"
   ]
  },
  {
   "cell_type": "markdown",
   "id": "99f05e56",
   "metadata": {},
   "source": [
    "### -ApplicantIncome"
   ]
  },
  {
   "cell_type": "code",
   "execution_count": 747,
   "id": "f8d28a17",
   "metadata": {},
   "outputs": [
    {
     "data": {
      "text/plain": [
       "array([ 4583,  3000,  2583,  6000,  5417,  2333,  3036,  4006, 12841,\n",
       "        3200,  3073,  1853,  1299,  4950,  3510,  4887,  7660,  5955,\n",
       "        2600,  9560,  2799,  4226,  1442,  3167,  4692,  3500, 12500,\n",
       "        3667,  4166,  3748,  3600,  1800,  3941,  5649,  5821,  2645,\n",
       "        4000,  1928,  3086,  4230,  4616, 11500,  2708,  2132,  3366,\n",
       "        8080,  3357,  2500,  3029,  2609,  5726, 10750,  7100,  4300,\n",
       "        3208,  1875,  5266,  3750,  1000,  3846,  1378,  3988,  2366,\n",
       "        8566,  5695,  2958,  6250,  3273,  4133,  3620,  2484,  1977,\n",
       "        4188,  1759,  4288,  4843,  3052, 11417,  3800,  2071,  5316,\n",
       "       14583,  5568, 10408,  2137,  2957, 10513,  2014,  2718,  3459,\n",
       "        4895,  3316, 14999,  4200,  5042,  6950,  2698, 11757,  2330,\n",
       "       14866,  1538, 10000,  4860,  6277,  2577,  9166,  2281,  3254,\n",
       "       39999,  9538,  1863,  7933,  3089,  4167,  9323,  2439,  2237,\n",
       "        8000,  3522,  5708,  4344,  3497,  2045,  5516,  6400,  4600,\n",
       "       33846,  3625, 39147,  2178,  9328,  4885, 12000,  6033,  3858,\n",
       "        4191,  3125,  8333, 11000,  4923,  3917,  4408,  3244,  3975,\n",
       "        2479,  3418,  3430,  7787,  5703,  3173,  3850,   150,  3727,\n",
       "        2221,  4009,  2971,  3250,  2491,  3155,  5500,  3812,  3315,\n",
       "        5819,  2510,  2965,  3406,  6050,  9703,  6608,  2882,  1809,\n",
       "        1668,  3427,  2661, 16250,  3083,  6045,  5250, 14683,  2060,\n",
       "        3481,  7200,  5166,  4095,  4708,  4333,  2876,  3237, 11146,\n",
       "        2833,  2620,  3900,  2750,  3993,  3103,  4053,  3927,  2301,\n",
       "        1811,  3158,  3704,  4124,  9508,  3075,  4400,  3153,  2383,\n",
       "        6875,  4666,  5000,  1625,  3762,  2400, 20233,  2917,  2927,\n",
       "        2507,  3399,  3717,  4342, 15000,  8666,  4917,  5818,  4384,\n",
       "        2935,  4160,  2647,  2378,  4554,  2499,  2625,  9083,  8750,\n",
       "        2666,  2423,  3875,  5167,  4723,  4750,  6822,  6216,  6325,\n",
       "       19730, 15759,  5185,  3062,  4817,  3069,  5391,  5941,  7167,\n",
       "        4566,  2346,  5488,  9167,  9504,  1993,  3100,  3180,  3033,\n",
       "        3902,  1500,  2889,  2755,  1963,  7441,  4547,  2167,  2213,\n",
       "        8300, 81000,  3867,  6096,  2253,  2149,  2995,  1600,  1025,\n",
       "        3246,  5829,  1820, 14880,  4606,  5935,  2920,  2717,  8624,\n",
       "        6500,  2425,  1926, 10416,  7142,  3660,  7901,  4707, 37719,\n",
       "        3466,  4652,  3340,  2309,  3948,  2483,  7085,  3859,  4301,\n",
       "        3708,  4354,  8334,  7740,  3015,  2947,  3450,  2653,  4691,\n",
       "        5532, 16525,  6700, 16667,  4350,  3095,  2083, 10833,  1958,\n",
       "        3547, 18333,  2435,  3691, 17263,  3597,  3326,  2895,  6283,\n",
       "         645,  3159,  4865,  3814, 13262,  3598,  6065,  3283,  2130,\n",
       "        5815,  2031,  4683,  3400,  2192,  5677,  7948, 17500,  3775,\n",
       "        5285,  2679,  6783,  4281,  3588, 18165,  6133,  3617,  6417,\n",
       "        4608,  2138,  2239,  2768,  3358,  2526,  2785,  3333,  2454,\n",
       "        3593,  5468, 10139,  3887,  4180,  3675, 19484,  5923,  5800,\n",
       "        8799,  3166,  3417, 16666,  6125,  6406,  3229,  1782,  6540,\n",
       "        1836,  2787,  4283,  2297,  2165,  2726, 16120,  3833,  6383,\n",
       "        9963,  5780,  3676,  3987,  3232,  2900,  4106,  8072,  7583],\n",
       "      dtype=int64)"
      ]
     },
     "execution_count": 747,
     "metadata": {},
     "output_type": "execute_result"
    }
   ],
   "source": [
    "df['ApplicantIncome'].unique()"
   ]
  },
  {
   "cell_type": "markdown",
   "id": "c542948a",
   "metadata": {},
   "source": [
    "### -CoapplicantIncome"
   ]
  },
  {
   "cell_type": "code",
   "execution_count": 748,
   "id": "9c485fa8",
   "metadata": {},
   "outputs": [
    {
     "data": {
      "text/plain": [
       "array([1.50800000e+03, 0.00000000e+00, 2.35800000e+03, 4.19600000e+03,\n",
       "       1.51600000e+03, 2.50400000e+03, 1.52600000e+03, 1.09680000e+04,\n",
       "       7.00000000e+02, 8.10600000e+03, 2.84000000e+03, 1.08600000e+03,\n",
       "       5.62500000e+03, 1.91100000e+03, 2.25300000e+03, 1.04000000e+03,\n",
       "       1.66700000e+03, 3.00000000e+03, 1.45900000e+03, 7.21000000e+03,\n",
       "       1.66800000e+03, 1.21300000e+03, 2.33600000e+03, 3.44000000e+03,\n",
       "       2.27500000e+03, 1.64400000e+03, 1.16700000e+03, 1.59100000e+03,\n",
       "       2.20000000e+03, 2.25000000e+03, 2.85900000e+03, 3.79600000e+03,\n",
       "       3.44900000e+03, 4.59500000e+03, 2.25400000e+03, 3.06600000e+03,\n",
       "       1.87500000e+03, 1.77400000e+03, 4.75000000e+03, 3.02200000e+03,\n",
       "       4.00000000e+03, 1.88100000e+03, 2.53100000e+03, 2.11800000e+03,\n",
       "       4.16700000e+03, 2.90000000e+03, 5.65400000e+03, 1.82000000e+03,\n",
       "       2.30200000e+03, 9.97000000e+02, 3.54100000e+03, 3.26300000e+03,\n",
       "       3.80600000e+03, 1.03000000e+03, 1.12600000e+03, 3.60000000e+03,\n",
       "       7.54000000e+02, 2.28300000e+03, 2.14200000e+03, 8.98000000e+03,\n",
       "       2.01400000e+03, 3.85000000e+03, 1.92900000e+03, 7.75000000e+03,\n",
       "       3.50000000e+03, 1.43000000e+03, 2.08300000e+03, 2.03400000e+03,\n",
       "       4.48600000e+03, 1.42500000e+03, 1.66600000e+03, 8.30000000e+02,\n",
       "       3.75000000e+03, 1.04100000e+03, 1.28000000e+03, 1.44700000e+03,\n",
       "       3.33300000e+03, 7.36000000e+02, 1.96400000e+03, 1.61900000e+03,\n",
       "       1.13000000e+04, 1.45100000e+03, 7.25000000e+03, 2.58300000e+03,\n",
       "       2.50000000e+03, 1.08300000e+03, 1.25000000e+03, 3.02100000e+03,\n",
       "       9.83000000e+02, 1.80000000e+03, 1.77500000e+03, 1.71700000e+03,\n",
       "       2.79100000e+03, 1.69500000e+03, 2.05400000e+03, 1.77900000e+03,\n",
       "       1.26000000e+03, 5.00000000e+03, 1.98300000e+03, 5.70100000e+03,\n",
       "       1.30000000e+03, 4.41700000e+03, 4.33300000e+03, 1.84300000e+03,\n",
       "       1.86800000e+03, 3.89000000e+03, 2.16700000e+03, 7.10100000e+03,\n",
       "       2.10000000e+03, 2.20900000e+03, 3.44700000e+03, 1.38700000e+03,\n",
       "       1.81100000e+03, 1.56000000e+03, 1.85700000e+03, 2.22300000e+03,\n",
       "       1.84200000e+03, 3.27400000e+03, 2.42600000e+03, 8.00000000e+02,\n",
       "       9.85799988e+02, 3.05300000e+03, 2.00000000e+03, 2.41600000e+03,\n",
       "       3.33400000e+03, 2.54100000e+03, 2.92500000e+03, 2.93400000e+03,\n",
       "       1.80300000e+03, 1.86300000e+03, 2.40500000e+03, 1.64000000e+03,\n",
       "       1.89000000e+02, 4.98300000e+03, 2.16000000e+03, 2.45100000e+03,\n",
       "       1.79300000e+03, 4.60000000e+03, 1.58700000e+03, 1.22900000e+03,\n",
       "       2.45800000e+03, 2.16800000e+03, 6.25000000e+03, 5.05000000e+02,\n",
       "       3.16700000e+03, 3.66700000e+03, 2.33300000e+03, 5.26600000e+03,\n",
       "       7.87300000e+03, 1.98700000e+03, 9.23000000e+02, 4.99600000e+03,\n",
       "       4.23200000e+03, 1.60000000e+03, 2.41700000e+03, 1.62500000e+03,\n",
       "       1.40000000e+03, 2.00000000e+04, 2.40000000e+03, 2.03300000e+03,\n",
       "       3.23700000e+03, 2.77300000e+03, 1.41700000e+03, 1.71900000e+03,\n",
       "       4.30000000e+03, 1.61200008e+01, 2.34000000e+03, 1.85100000e+03,\n",
       "       5.06400000e+03, 1.83300000e+03, 1.99300000e+03, 1.21000000e+03,\n",
       "       1.71000000e+03, 1.25500000e+03, 1.73300000e+03, 2.46600000e+03,\n",
       "       2.56900000e+03, 2.18800000e+03, 1.66400000e+03, 2.07900000e+03,\n",
       "       1.50000000e+03, 4.64800000e+03, 1.01400000e+03, 1.75000000e+03,\n",
       "       3.15000000e+03, 2.43600000e+03, 2.15700000e+03, 9.13000000e+02,\n",
       "       1.70000000e+03, 4.41600000e+03, 3.68300000e+03, 5.62400000e+03,\n",
       "       1.48300000e+03, 3.01300000e+03, 1.28700000e+03, 2.00400000e+03,\n",
       "       2.03500000e+03, 6.66600000e+03, 3.66600000e+03, 3.42800000e+03,\n",
       "       1.63200000e+03, 1.91500000e+03, 1.74200000e+03, 1.42400000e+03,\n",
       "       7.16600000e+03, 1.30200000e+03, 3.90600000e+03, 5.36000000e+02,\n",
       "       2.84500000e+03, 2.52400000e+03, 1.95000000e+03, 1.78300000e+03,\n",
       "       2.01600000e+03, 3.25000000e+03, 4.26600000e+03, 1.03200000e+03,\n",
       "       2.66900000e+03, 2.30600000e+03, 2.42000000e+02, 2.06400000e+03,\n",
       "       4.61000000e+02, 2.73900000e+03, 2.23200000e+03, 3.38370000e+04,\n",
       "       1.91700000e+03, 1.52200000e+03, 3.41600000e+03, 3.30000000e+03,\n",
       "       1.00000000e+03, 4.30100000e+03, 1.41100000e+03, 2.40000000e+02])"
      ]
     },
     "execution_count": 748,
     "metadata": {},
     "output_type": "execute_result"
    }
   ],
   "source": [
    "df['CoapplicantIncome'].unique()"
   ]
  },
  {
   "cell_type": "code",
   "execution_count": 749,
   "id": "02b6b7e7",
   "metadata": {},
   "outputs": [],
   "source": [
    "\n",
    "\n",
    "# create a new variable that combines the income of the applicant and co-applicant\n",
    "#df['Total_Income'] = df['ApplicantIncome'] + df['CoapplicantIncome']"
   ]
  },
  {
   "cell_type": "code",
   "execution_count": 750,
   "id": "7a5d0974",
   "metadata": {},
   "outputs": [],
   "source": [
    "# create a box plot of Total_Income by Loan_Status\n",
    "#sns.boxplot(x='Loan_Status', y='Total_Income', data=df, palette=['red', 'green'])\n",
    "\n",
    "# add labels and title\n",
    "#plt.xlabel('Loan Approval Status')\n",
    "#plt.ylabel('Total Income')\n",
    "#plt.title('Relationship between Loan Approval Status and Total Income')\n",
    "\n",
    "# display the plot\n",
    "#plt.show()"
   ]
  },
  {
   "cell_type": "markdown",
   "id": "43718059",
   "metadata": {},
   "source": [
    "### -LoanAmount"
   ]
  },
  {
   "cell_type": "code",
   "execution_count": 751,
   "id": "b0d5387e",
   "metadata": {},
   "outputs": [
    {
     "data": {
      "text/plain": [
       "array([128.,  66., 120., 141., 267.,  95., 158., 168., 349.,  70., 200.,\n",
       "       114.,  17., 125.,  76., 133., 104., 315., 116., 191., 122., 110.,\n",
       "        35.,  74., 106., 320., 144., 184.,  80.,  47., 134.,  44., 100.,\n",
       "       112., 286.,  97.,  96., 135., 180.,  99., 165., 258., 126., 312.,\n",
       "       136., 172.,  81., 187., 113., 176., 111., 167.,  50., 210., 175.,\n",
       "       131., 188.,  25., 137., 115., 151., 225., 216.,  94., 185., 154.,\n",
       "       259., 194., 160., 102., 290.,  84.,  88., 242., 129.,  30., 118.,\n",
       "       152., 244., 600., 255.,  98., 275., 121.,  75.,  63.,  87., 101.,\n",
       "       495.,  73., 260., 108.,  48., 164., 170.,  83.,  90., 166., 124.,\n",
       "        55.,  59., 127., 214., 240., 130.,  60., 280., 140., 155., 123.,\n",
       "       201., 138., 279., 192., 304., 150., 207., 436.,  78.,  54.,  89.,\n",
       "       139.,  93., 132., 480.,  56., 300., 376.,  67., 117.,  71., 173.,\n",
       "        46., 228., 308., 105., 236., 570., 380., 296., 156., 109., 103.,\n",
       "        45.,  65.,  53., 360.,  62., 218., 178., 239., 143., 148., 149.,\n",
       "       153., 162., 230.,  86., 234., 246., 500., 119., 107., 209., 208.,\n",
       "       243.,  40., 250., 311., 400., 161., 324., 157., 145., 181.,  26.,\n",
       "       182., 211.,   9., 186., 205.,  36., 146., 142., 496., 253.])"
      ]
     },
     "execution_count": 751,
     "metadata": {},
     "output_type": "execute_result"
    }
   ],
   "source": [
    "df['LoanAmount'].unique()"
   ]
  },
  {
   "cell_type": "code",
   "execution_count": 752,
   "id": "114cf17e",
   "metadata": {},
   "outputs": [],
   "source": [
    "df['LoanAmount']=df['LoanAmount']*1000"
   ]
  },
  {
   "cell_type": "code",
   "execution_count": 753,
   "id": "95faf8c1",
   "metadata": {},
   "outputs": [
    {
     "data": {
      "text/plain": [
       "array([128000.,  66000., 120000., 141000., 267000.,  95000., 158000.,\n",
       "       168000., 349000.,  70000., 200000., 114000.,  17000., 125000.,\n",
       "        76000., 133000., 104000., 315000., 116000., 191000., 122000.,\n",
       "       110000.,  35000.,  74000., 106000., 320000., 144000., 184000.,\n",
       "        80000.,  47000., 134000.,  44000., 100000., 112000., 286000.,\n",
       "        97000.,  96000., 135000., 180000.,  99000., 165000., 258000.,\n",
       "       126000., 312000., 136000., 172000.,  81000., 187000., 113000.,\n",
       "       176000., 111000., 167000.,  50000., 210000., 175000., 131000.,\n",
       "       188000.,  25000., 137000., 115000., 151000., 225000., 216000.,\n",
       "        94000., 185000., 154000., 259000., 194000., 160000., 102000.,\n",
       "       290000.,  84000.,  88000., 242000., 129000.,  30000., 118000.,\n",
       "       152000., 244000., 600000., 255000.,  98000., 275000., 121000.,\n",
       "        75000.,  63000.,  87000., 101000., 495000.,  73000., 260000.,\n",
       "       108000.,  48000., 164000., 170000.,  83000.,  90000., 166000.,\n",
       "       124000.,  55000.,  59000., 127000., 214000., 240000., 130000.,\n",
       "        60000., 280000., 140000., 155000., 123000., 201000., 138000.,\n",
       "       279000., 192000., 304000., 150000., 207000., 436000.,  78000.,\n",
       "        54000.,  89000., 139000.,  93000., 132000., 480000.,  56000.,\n",
       "       300000., 376000.,  67000., 117000.,  71000., 173000.,  46000.,\n",
       "       228000., 308000., 105000., 236000., 570000., 380000., 296000.,\n",
       "       156000., 109000., 103000.,  45000.,  65000.,  53000., 360000.,\n",
       "        62000., 218000., 178000., 239000., 143000., 148000., 149000.,\n",
       "       153000., 162000., 230000.,  86000., 234000., 246000., 500000.,\n",
       "       119000., 107000., 209000., 208000., 243000.,  40000., 250000.,\n",
       "       311000., 400000., 161000., 324000., 157000., 145000., 181000.,\n",
       "        26000., 182000., 211000.,   9000., 186000., 205000.,  36000.,\n",
       "       146000., 142000., 496000., 253000.])"
      ]
     },
     "execution_count": 753,
     "metadata": {},
     "output_type": "execute_result"
    }
   ],
   "source": [
    "df['LoanAmount'].unique()"
   ]
  },
  {
   "cell_type": "code",
   "execution_count": 754,
   "id": "deeec132",
   "metadata": {},
   "outputs": [],
   "source": [
    "### -Loan_Amount_Term"
   ]
  },
  {
   "cell_type": "code",
   "execution_count": 755,
   "id": "c54f5450",
   "metadata": {},
   "outputs": [
    {
     "data": {
      "text/plain": [
       "array([360., 120., 180.,  60., 300., 480., 240.,  36.,  84.])"
      ]
     },
     "execution_count": 755,
     "metadata": {},
     "output_type": "execute_result"
    }
   ],
   "source": [
    "df['Loan_Amount_Term'].unique()"
   ]
  },
  {
   "cell_type": "code",
   "execution_count": null,
   "id": "c5e6dac3",
   "metadata": {},
   "outputs": [],
   "source": []
  },
  {
   "cell_type": "code",
   "execution_count": 756,
   "id": "e71efa37",
   "metadata": {},
   "outputs": [
    {
     "data": {
      "text/plain": [
       "Index(['Gender', 'Married', 'Dependents', 'Education', 'Self_Employed',\n",
       "       'ApplicantIncome', 'CoapplicantIncome', 'LoanAmount',\n",
       "       'Loan_Amount_Term', 'Credit_History', 'Property_Area', 'Loan_Status'],\n",
       "      dtype='object')"
      ]
     },
     "execution_count": 756,
     "metadata": {},
     "output_type": "execute_result"
    }
   ],
   "source": [
    "df.columns"
   ]
  },
  {
   "cell_type": "markdown",
   "id": "2d5902be",
   "metadata": {},
   "source": [
    "### -Credit_History"
   ]
  },
  {
   "cell_type": "code",
   "execution_count": 757,
   "id": "80a169e0",
   "metadata": {},
   "outputs": [
    {
     "data": {
      "text/plain": [
       "Credit_History\n",
       "1.0    410\n",
       "0.0     70\n",
       "Name: count, dtype: int64"
      ]
     },
     "execution_count": 757,
     "metadata": {},
     "output_type": "execute_result"
    }
   ],
   "source": [
    "df['Credit_History'].value_counts()"
   ]
  },
  {
   "cell_type": "code",
   "execution_count": 758,
   "id": "58e6a2c5",
   "metadata": {},
   "outputs": [
    {
     "data": {
      "text/plain": [
       "<Axes: xlabel='Credit_History', ylabel='count'>"
      ]
     },
     "execution_count": 758,
     "metadata": {},
     "output_type": "execute_result"
    },
    {
     "data": {
      "image/png": "[encoded data removed]",
      "text/plain": [
       "<Figure size 400x600 with 1 Axes>"
      ]
     },
     "metadata": {},
     "output_type": "display_data"
    }
   ],
   "source": [
    "sns.countplot(data=df, x='Credit_History', palette=\"rocket\")"
   ]
  },
  {
   "cell_type": "code",
   "execution_count": 759,
   "id": "b20bcb1e",
   "metadata": {},
   "outputs": [],
   "source": [
    "from datasist.structdata import detect_outliers\n"
   ]
  },
  {
   "cell_type": "code",
   "execution_count": 760,
   "id": "894d4c55",
   "metadata": {},
   "outputs": [
    {
     "data": {
      "text/plain": [
       "40"
      ]
     },
     "execution_count": 760,
     "metadata": {},
     "output_type": "execute_result"
    }
   ],
   "source": [
    "outlier_indicies= detect_outliers(df,0,['ApplicantIncome'])\n",
    "len(outlier_indicies)"
   ]
  },
  {
   "cell_type": "markdown",
   "id": "67a62553",
   "metadata": {},
   "source": [
    "### -Property_Area"
   ]
  },
  {
   "cell_type": "code",
   "execution_count": 761,
   "id": "a51b9c6d",
   "metadata": {},
   "outputs": [
    {
     "data": {
      "text/plain": [
       "array(['Rural', 'Urban', 'Semiurban'], dtype=object)"
      ]
     },
     "execution_count": 761,
     "metadata": {},
     "output_type": "execute_result"
    }
   ],
   "source": [
    "df['Property_Area'].unique()"
   ]
  },
  {
   "cell_type": "code",
   "execution_count": 762,
   "id": "5831079f",
   "metadata": {},
   "outputs": [
    {
     "data": {
      "text/plain": [
       "Property_Area\n",
       "Semiurban    191\n",
       "Urban        150\n",
       "Rural        139\n",
       "Name: count, dtype: int64"
      ]
     },
     "execution_count": 762,
     "metadata": {},
     "output_type": "execute_result"
    }
   ],
   "source": [
    "df['Property_Area'].value_counts()"
   ]
  },
  {
   "cell_type": "code",
   "execution_count": 763,
   "id": "97bdc6d5",
   "metadata": {},
   "outputs": [
    {
     "data": {
      "text/plain": [
       "<Axes: xlabel='Property_Area', ylabel='count'>"
      ]
     },
     "execution_count": 763,
     "metadata": {},
     "output_type": "execute_result"
    },
    {
     "data": {
      "image/png": "[encoded data removed]",
      "text/plain": [
       "<Figure size 600x600 with 1 Axes>"
      ]
     },
     "metadata": {},
     "output_type": "display_data"
    }
   ],
   "source": [
    "sns.set(rc={'figure.figsize':(6,6)})\n",
    "pal = [ \"#DC7633\" , \"#FADBD8\" , '#D2B4DE']\n",
    "sns.countplot(data=df, x='Property_Area', palette= pal )"
   ]
  },
  {
   "cell_type": "markdown",
   "id": "f0751161",
   "metadata": {},
   "source": [
    "### -Loan_Status"
   ]
  },
  {
   "cell_type": "code",
   "execution_count": 764,
   "id": "37657493",
   "metadata": {},
   "outputs": [
    {
     "data": {
      "text/plain": [
       "array(['N', 'Y'], dtype=object)"
      ]
     },
     "execution_count": 764,
     "metadata": {},
     "output_type": "execute_result"
    }
   ],
   "source": [
    "df['Loan_Status'].unique()"
   ]
  },
  {
   "cell_type": "code",
   "execution_count": 765,
   "id": "b0091862",
   "metadata": {},
   "outputs": [
    {
     "data": {
      "text/plain": [
       "Loan_Status\n",
       "Y    332\n",
       "N    148\n",
       "Name: count, dtype: int64"
      ]
     },
     "execution_count": 765,
     "metadata": {},
     "output_type": "execute_result"
    }
   ],
   "source": [
    "df['Loan_Status'].value_counts()"
   ]
  },
  {
   "cell_type": "code",
   "execution_count": 766,
   "id": "458f0623",
   "metadata": {},
   "outputs": [
    {
     "data": {
      "text/plain": [
       "<Axes: xlabel='Loan_Status', ylabel='count'>"
      ]
     },
     "execution_count": 766,
     "metadata": {},
     "output_type": "execute_result"
    },
    {
     "data": {
      "image/png": "[encoded data removed]",
      "text/plain": [
       "<Figure size 400x600 with 1 Axes>"
      ]
     },
     "metadata": {},
     "output_type": "display_data"
    }
   ],
   "source": [
    "sns.set(rc={'figure.figsize':(4,6)})\n",
    "pal = [ \"#DC7633\" , '#D2B4DE']\n",
    "sns.countplot(data=df, x='Loan_Status', palette= pal )"
   ]
  },
  {
   "cell_type": "code",
   "execution_count": null,
   "id": "4cad1c31",
   "metadata": {},
   "outputs": [],
   "source": []
  },
  {
   "cell_type": "markdown",
   "id": "5818da31",
   "metadata": {},
   "source": [
    "\n",
    "<h1 style=\"font-family:Times New Roman; font-size:6m;color:BLUE;\"><em>Feature Engineering</em> </h1>"
   ]
  },
  {
   "cell_type": "code",
   "execution_count": 767,
   "id": "dd578bac",
   "metadata": {},
   "outputs": [],
   "source": [
    "df['Loan_Amount_Term'] = df['Loan_Amount_Term'].apply(lambda x : x/12 if pd.notna(x) else x )"
   ]
  },
  {
   "cell_type": "code",
   "execution_count": 768,
   "id": "e2fa2069",
   "metadata": {},
   "outputs": [
    {
     "data": {
      "text/plain": [
       "array([30., 10., 15.,  5., 25., 40., 20.,  3.,  7.])"
      ]
     },
     "execution_count": 768,
     "metadata": {},
     "output_type": "execute_result"
    }
   ],
   "source": [
    "df['Loan_Amount_Term'].unique()"
   ]
  },
  {
   "cell_type": "markdown",
   "id": "a80044ec",
   "metadata": {},
   "source": [
    "#### Get loan amount in thousands\n"
   ]
  },
  {
   "cell_type": "code",
   "execution_count": 769,
   "id": "666230c1",
   "metadata": {},
   "outputs": [],
   "source": [
    "df['Debt_Payment_month'] = df['LoanAmount'] / (df['Loan_Amount_Term'] *12) "
   ]
  },
  {
   "cell_type": "code",
   "execution_count": 770,
   "id": "4d4446be",
   "metadata": {},
   "outputs": [
    {
     "data": {
      "text/plain": [
       "0      355.555556\n",
       "1      183.333333\n",
       "2      333.333333\n",
       "3      391.666667\n",
       "4      741.666667\n",
       "          ...    \n",
       "475    197.222222\n",
       "476    222.222222\n",
       "477    702.777778\n",
       "478    519.444444\n",
       "479    369.444444\n",
       "Name: Debt_Payment_month, Length: 480, dtype: float64"
      ]
     },
     "execution_count": 770,
     "metadata": {},
     "output_type": "execute_result"
    }
   ],
   "source": [
    "df['Debt_Payment_month']"
   ]
  },
  {
   "cell_type": "code",
   "execution_count": 771,
   "id": "be274d19",
   "metadata": {},
   "outputs": [],
   "source": [
    "df['DTI'] =( df['Debt_Payment_month'] / df['ApplicantIncome']) * 100"
   ]
  },
  {
   "cell_type": "code",
   "execution_count": 772,
   "id": "b6f9543a",
   "metadata": {},
   "outputs": [
    {
     "data": {
      "text/plain": [
       "DTI\n",
       "6.944444     2\n",
       "7.051824     2\n",
       "7.758140     1\n",
       "14.741322    1\n",
       "11.809406    1\n",
       "            ..\n",
       "9.366466     1\n",
       "9.615385     1\n",
       "2.095960     1\n",
       "6.233583     1\n",
       "8.061192     1\n",
       "Name: count, Length: 478, dtype: int64"
      ]
     },
     "execution_count": 772,
     "metadata": {},
     "output_type": "execute_result"
    }
   ],
   "source": [
    "df['DTI'].value_counts()"
   ]
  },
  {
   "cell_type": "code",
   "execution_count": 773,
   "id": "cc68cc8d",
   "metadata": {},
   "outputs": [],
   "source": [
    "def categorize_DTI(r):\n",
    "    if pd.notna(r):\n",
    "        if r <= 20 :\n",
    "            return \"Low\"\n",
    "        elif (r > 20) and (r <= 50):\n",
    "            return \"Medium\"\n",
    "\n",
    "        elif (r > 50) and (r <= 90):\n",
    "            return \"High\"\n",
    "        else:\n",
    "            return \"Very High\"\n",
    "    else:\n",
    "        return np.nan\n",
    "    \n",
    "df['DTI_categories'] = df['DTI'].apply(categorize_DTI)"
   ]
  },
  {
   "cell_type": "code",
   "execution_count": 774,
   "id": "a02dd9f9",
   "metadata": {},
   "outputs": [
    {
     "data": {
      "text/plain": [
       "DTI_categories\n",
       "Low          448\n",
       "Medium        27\n",
       "High           3\n",
       "Very High      2\n",
       "Name: count, dtype: int64"
      ]
     },
     "execution_count": 774,
     "metadata": {},
     "output_type": "execute_result"
    }
   ],
   "source": [
    "df['DTI_categories'].value_counts()"
   ]
  },
  {
   "cell_type": "code",
   "execution_count": 775,
   "id": "a537ca58",
   "metadata": {},
   "outputs": [
    {
     "data": {
      "text/plain": [
       "count    480.000000\n",
       "mean      11.387951\n",
       "std       14.348844\n",
       "min        0.837816\n",
       "25%        6.586499\n",
       "50%        8.732240\n",
       "75%       12.583192\n",
       "max      250.000000\n",
       "Name: DTI, dtype: float64"
      ]
     },
     "execution_count": 775,
     "metadata": {},
     "output_type": "execute_result"
    }
   ],
   "source": [
    "df['DTI'].describe()"
   ]
  },
  {
   "cell_type": "markdown",
   "id": "e196d849",
   "metadata": {},
   "source": [
    "### Handling outliers"
   ]
  },
  {
   "cell_type": "code",
   "execution_count": 776,
   "id": "f61e473d",
   "metadata": {},
   "outputs": [
    {
     "data": {
      "text/plain": [
       "63"
      ]
     },
     "execution_count": 776,
     "metadata": {},
     "output_type": "execute_result"
    }
   ],
   "source": [
    "outlier_indicies= detect_outliers(df,0,['ApplicantIncome','CoapplicantIncome', 'LoanAmount'])\n",
    "len(outlier_indicies)"
   ]
  },
  {
   "cell_type": "code",
   "execution_count": 777,
   "id": "96d10d06",
   "metadata": {},
   "outputs": [],
   "source": [
    "df = df.drop(outlier_indicies, axis=0)\n",
    "df = df.reset_index(drop=True)"
   ]
  },
  {
   "cell_type": "code",
   "execution_count": 778,
   "id": "24257314",
   "metadata": {},
   "outputs": [
    {
     "data": {
      "text/html": [
       "<div>\n",
       "<style scoped>\n",
       "    .dataframe tbody tr th:only-of-type {\n",
       "        vertical-align: middle;\n",
       "    }\n",
       "\n",
       "    .dataframe tbody tr th {\n",
       "        vertical-align: top;\n",
       "    }\n",
       "\n",
       "    .dataframe thead th {\n",
       "        text-align: right;\n",
       "    }\n",
       "</style>\n",
       "<table border=\"1\" class=\"dataframe\">\n",
       "  <thead>\n",
       "    <tr style=\"text-align: right;\">\n",
       "      <th></th>\n",
       "      <th>Gender</th>\n",
       "      <th>Married</th>\n",
       "      <th>Dependents</th>\n",
       "      <th>Education</th>\n",
       "      <th>Self_Employed</th>\n",
       "      <th>ApplicantIncome</th>\n",
       "      <th>CoapplicantIncome</th>\n",
       "      <th>LoanAmount</th>\n",
       "      <th>Loan_Amount_Term</th>\n",
       "      <th>Credit_History</th>\n",
       "      <th>Property_Area</th>\n",
       "      <th>Loan_Status</th>\n",
       "      <th>Debt_Payment_month</th>\n",
       "      <th>DTI</th>\n",
       "      <th>DTI_categories</th>\n",
       "    </tr>\n",
       "  </thead>\n",
       "  <tbody>\n",
       "    <tr>\n",
       "      <th>0</th>\n",
       "      <td>Male</td>\n",
       "      <td>Yes</td>\n",
       "      <td>1</td>\n",
       "      <td>Graduate</td>\n",
       "      <td>No</td>\n",
       "      <td>4583</td>\n",
       "      <td>1508.0</td>\n",
       "      <td>128000.0</td>\n",
       "      <td>30.0</td>\n",
       "      <td>1.0</td>\n",
       "      <td>Rural</td>\n",
       "      <td>N</td>\n",
       "      <td>355.555556</td>\n",
       "      <td>7.758140</td>\n",
       "      <td>Low</td>\n",
       "    </tr>\n",
       "    <tr>\n",
       "      <th>1</th>\n",
       "      <td>Male</td>\n",
       "      <td>Yes</td>\n",
       "      <td>0</td>\n",
       "      <td>Graduate</td>\n",
       "      <td>Yes</td>\n",
       "      <td>3000</td>\n",
       "      <td>0.0</td>\n",
       "      <td>66000.0</td>\n",
       "      <td>30.0</td>\n",
       "      <td>1.0</td>\n",
       "      <td>Urban</td>\n",
       "      <td>Y</td>\n",
       "      <td>183.333333</td>\n",
       "      <td>6.111111</td>\n",
       "      <td>Low</td>\n",
       "    </tr>\n",
       "    <tr>\n",
       "      <th>2</th>\n",
       "      <td>Male</td>\n",
       "      <td>Yes</td>\n",
       "      <td>0</td>\n",
       "      <td>Not Graduate</td>\n",
       "      <td>No</td>\n",
       "      <td>2583</td>\n",
       "      <td>2358.0</td>\n",
       "      <td>120000.0</td>\n",
       "      <td>30.0</td>\n",
       "      <td>1.0</td>\n",
       "      <td>Urban</td>\n",
       "      <td>Y</td>\n",
       "      <td>333.333333</td>\n",
       "      <td>12.904891</td>\n",
       "      <td>Low</td>\n",
       "    </tr>\n",
       "    <tr>\n",
       "      <th>3</th>\n",
       "      <td>Male</td>\n",
       "      <td>No</td>\n",
       "      <td>0</td>\n",
       "      <td>Graduate</td>\n",
       "      <td>No</td>\n",
       "      <td>6000</td>\n",
       "      <td>0.0</td>\n",
       "      <td>141000.0</td>\n",
       "      <td>30.0</td>\n",
       "      <td>1.0</td>\n",
       "      <td>Urban</td>\n",
       "      <td>Y</td>\n",
       "      <td>391.666667</td>\n",
       "      <td>6.527778</td>\n",
       "      <td>Low</td>\n",
       "    </tr>\n",
       "    <tr>\n",
       "      <th>4</th>\n",
       "      <td>Male</td>\n",
       "      <td>Yes</td>\n",
       "      <td>2</td>\n",
       "      <td>Graduate</td>\n",
       "      <td>Yes</td>\n",
       "      <td>5417</td>\n",
       "      <td>4196.0</td>\n",
       "      <td>267000.0</td>\n",
       "      <td>30.0</td>\n",
       "      <td>1.0</td>\n",
       "      <td>Urban</td>\n",
       "      <td>Y</td>\n",
       "      <td>741.666667</td>\n",
       "      <td>13.691465</td>\n",
       "      <td>Low</td>\n",
       "    </tr>\n",
       "    <tr>\n",
       "      <th>...</th>\n",
       "      <td>...</td>\n",
       "      <td>...</td>\n",
       "      <td>...</td>\n",
       "      <td>...</td>\n",
       "      <td>...</td>\n",
       "      <td>...</td>\n",
       "      <td>...</td>\n",
       "      <td>...</td>\n",
       "      <td>...</td>\n",
       "      <td>...</td>\n",
       "      <td>...</td>\n",
       "      <td>...</td>\n",
       "      <td>...</td>\n",
       "      <td>...</td>\n",
       "      <td>...</td>\n",
       "    </tr>\n",
       "    <tr>\n",
       "      <th>412</th>\n",
       "      <td>Female</td>\n",
       "      <td>No</td>\n",
       "      <td>0</td>\n",
       "      <td>Graduate</td>\n",
       "      <td>No</td>\n",
       "      <td>2900</td>\n",
       "      <td>0.0</td>\n",
       "      <td>71000.0</td>\n",
       "      <td>30.0</td>\n",
       "      <td>1.0</td>\n",
       "      <td>Rural</td>\n",
       "      <td>Y</td>\n",
       "      <td>197.222222</td>\n",
       "      <td>6.800766</td>\n",
       "      <td>Low</td>\n",
       "    </tr>\n",
       "    <tr>\n",
       "      <th>413</th>\n",
       "      <td>Male</td>\n",
       "      <td>Yes</td>\n",
       "      <td>3+</td>\n",
       "      <td>Graduate</td>\n",
       "      <td>No</td>\n",
       "      <td>4106</td>\n",
       "      <td>0.0</td>\n",
       "      <td>40000.0</td>\n",
       "      <td>15.0</td>\n",
       "      <td>1.0</td>\n",
       "      <td>Rural</td>\n",
       "      <td>Y</td>\n",
       "      <td>222.222222</td>\n",
       "      <td>5.412134</td>\n",
       "      <td>Low</td>\n",
       "    </tr>\n",
       "    <tr>\n",
       "      <th>414</th>\n",
       "      <td>Male</td>\n",
       "      <td>Yes</td>\n",
       "      <td>1</td>\n",
       "      <td>Graduate</td>\n",
       "      <td>No</td>\n",
       "      <td>8072</td>\n",
       "      <td>240.0</td>\n",
       "      <td>253000.0</td>\n",
       "      <td>30.0</td>\n",
       "      <td>1.0</td>\n",
       "      <td>Urban</td>\n",
       "      <td>Y</td>\n",
       "      <td>702.777778</td>\n",
       "      <td>8.706365</td>\n",
       "      <td>Low</td>\n",
       "    </tr>\n",
       "    <tr>\n",
       "      <th>415</th>\n",
       "      <td>Male</td>\n",
       "      <td>Yes</td>\n",
       "      <td>2</td>\n",
       "      <td>Graduate</td>\n",
       "      <td>No</td>\n",
       "      <td>7583</td>\n",
       "      <td>0.0</td>\n",
       "      <td>187000.0</td>\n",
       "      <td>30.0</td>\n",
       "      <td>1.0</td>\n",
       "      <td>Urban</td>\n",
       "      <td>Y</td>\n",
       "      <td>519.444444</td>\n",
       "      <td>6.850118</td>\n",
       "      <td>Low</td>\n",
       "    </tr>\n",
       "    <tr>\n",
       "      <th>416</th>\n",
       "      <td>Female</td>\n",
       "      <td>No</td>\n",
       "      <td>0</td>\n",
       "      <td>Graduate</td>\n",
       "      <td>Yes</td>\n",
       "      <td>4583</td>\n",
       "      <td>0.0</td>\n",
       "      <td>133000.0</td>\n",
       "      <td>30.0</td>\n",
       "      <td>0.0</td>\n",
       "      <td>Semiurban</td>\n",
       "      <td>N</td>\n",
       "      <td>369.444444</td>\n",
       "      <td>8.061192</td>\n",
       "      <td>Low</td>\n",
       "    </tr>\n",
       "  </tbody>\n",
       "</table>\n",
       "<p>417 rows × 15 columns</p>\n",
       "</div>"
      ],
      "text/plain": [
       "     Gender Married Dependents     Education Self_Employed  ApplicantIncome   \n",
       "0      Male     Yes          1      Graduate            No             4583  \\\n",
       "1      Male     Yes          0      Graduate           Yes             3000   \n",
       "2      Male     Yes          0  Not Graduate            No             2583   \n",
       "3      Male      No          0      Graduate            No             6000   \n",
       "4      Male     Yes          2      Graduate           Yes             5417   \n",
       "..      ...     ...        ...           ...           ...              ...   \n",
       "412  Female      No          0      Graduate            No             2900   \n",
       "413    Male     Yes         3+      Graduate            No             4106   \n",
       "414    Male     Yes          1      Graduate            No             8072   \n",
       "415    Male     Yes          2      Graduate            No             7583   \n",
       "416  Female      No          0      Graduate           Yes             4583   \n",
       "\n",
       "     CoapplicantIncome  LoanAmount  Loan_Amount_Term  Credit_History   \n",
       "0               1508.0    128000.0              30.0             1.0  \\\n",
       "1                  0.0     66000.0              30.0             1.0   \n",
       "2               2358.0    120000.0              30.0             1.0   \n",
       "3                  0.0    141000.0              30.0             1.0   \n",
       "4               4196.0    267000.0              30.0             1.0   \n",
       "..                 ...         ...               ...             ...   \n",
       "412                0.0     71000.0              30.0             1.0   \n",
       "413                0.0     40000.0              15.0             1.0   \n",
       "414              240.0    253000.0              30.0             1.0   \n",
       "415                0.0    187000.0              30.0             1.0   \n",
       "416                0.0    133000.0              30.0             0.0   \n",
       "\n",
       "    Property_Area Loan_Status  Debt_Payment_month        DTI DTI_categories  \n",
       "0           Rural           N          355.555556   7.758140            Low  \n",
       "1           Urban           Y          183.333333   6.111111            Low  \n",
       "2           Urban           Y          333.333333  12.904891            Low  \n",
       "3           Urban           Y          391.666667   6.527778            Low  \n",
       "4           Urban           Y          741.666667  13.691465            Low  \n",
       "..            ...         ...                 ...        ...            ...  \n",
       "412         Rural           Y          197.222222   6.800766            Low  \n",
       "413         Rural           Y          222.222222   5.412134            Low  \n",
       "414         Urban           Y          702.777778   8.706365            Low  \n",
       "415         Urban           Y          519.444444   6.850118            Low  \n",
       "416     Semiurban           N          369.444444   8.061192            Low  \n",
       "\n",
       "[417 rows x 15 columns]"
      ]
     },
     "execution_count": 778,
     "metadata": {},
     "output_type": "execute_result"
    }
   ],
   "source": [
    "df"
   ]
  },
  {
   "cell_type": "code",
   "execution_count": 779,
   "id": "ad9f4b5a",
   "metadata": {},
   "outputs": [],
   "source": [
    "df.reset_index(drop = True , inplace = True)"
   ]
  },
  {
   "cell_type": "markdown",
   "id": "e7011ff7",
   "metadata": {},
   "source": [
    "# ◾ Answer Buisness Questions"
   ]
  },
  {
   "cell_type": "code",
   "execution_count": 780,
   "id": "dd519b16",
   "metadata": {},
   "outputs": [
    {
     "data": {
      "text/plain": [
       "Index(['Gender', 'Married', 'Dependents', 'Education', 'Self_Employed',\n",
       "       'ApplicantIncome', 'CoapplicantIncome', 'LoanAmount',\n",
       "       'Loan_Amount_Term', 'Credit_History', 'Property_Area', 'Loan_Status',\n",
       "       'Debt_Payment_month', 'DTI', 'DTI_categories'],\n",
       "      dtype='object')"
      ]
     },
     "execution_count": 780,
     "metadata": {},
     "output_type": "execute_result"
    }
   ],
   "source": [
    "df.columns"
   ]
  },
  {
   "cell_type": "markdown",
   "id": "f6a491f1",
   "metadata": {},
   "source": [
    "<h1 style=\"font-family:cursive; font-size:1.5em;color:brown;\"> -Is Gender affect Loan_Status?  </h1>"
   ]
  },
  {
   "cell_type": "code",
   "execution_count": 781,
   "id": "b0dab0d1",
   "metadata": {
    "scrolled": true
   },
   "outputs": [
    {
     "data": {
      "text/plain": [
       "<Axes: xlabel='Gender', ylabel='count'>"
      ]
     },
     "execution_count": 781,
     "metadata": {},
     "output_type": "execute_result"
    },
    {
     "data": {
      "image/png": "[encoded data removed]",
      "text/plain": [
       "<Figure size 400x600 with 1 Axes>"
      ]
     },
     "metadata": {},
     "output_type": "display_data"
    }
   ],
   "source": [
    "sns.countplot(x='Gender',hue='Loan_Status',data=df)\n",
    "#yes Male has high periority"
   ]
  },
  {
   "cell_type": "markdown",
   "id": "bc135a81",
   "metadata": {},
   "source": [
    "<h1 style=\"font-family:cursive; font-size:1.5em;color:brown;\"> -Married status affect approval of loans?  </h1>"
   ]
  },
  {
   "cell_type": "code",
   "execution_count": 782,
   "id": "fd66eb00",
   "metadata": {},
   "outputs": [
    {
     "name": "stdout",
     "output_type": "stream",
     "text": [
      "Approval rate for married applicants: 74.07%\n",
      "Approval rate for unmarried applicants: 63.27%\n"
     ]
    }
   ],
   "source": [
    "\n",
    "\n",
    "# compute the percentage of approved loans for married and unmarried applicants\n",
    "married_approval_rate = df.loc[df['Married'] == 'Yes', 'Loan_Status'].value_counts(normalize=True)['Y']\n",
    "unmarried_approval_rate = df.loc[df['Married'] == 'No', 'Loan_Status'].value_counts(normalize=True)['Y']\n",
    "\n",
    "# print the results\n",
    "print('Approval rate for married applicants: {:.2f}%'.format(married_approval_rate * 100))\n",
    "print('Approval rate for unmarried applicants: {:.2f}%'.format(unmarried_approval_rate * 100))"
   ]
  },
  {
   "cell_type": "code",
   "execution_count": 783,
   "id": "0d2649ed",
   "metadata": {},
   "outputs": [
    {
     "data": {
      "text/plain": [
       "<Axes: xlabel='Married', ylabel='count'>"
      ]
     },
     "execution_count": 783,
     "metadata": {},
     "output_type": "execute_result"
    },
    {
     "data": {
      "image/png": "[encoded data removed]",
      "text/plain": [
       "<Figure size 400x600 with 1 Axes>"
      ]
     },
     "metadata": {},
     "output_type": "display_data"
    }
   ],
   "source": [
    "# create a count plot of loan approval by marital status\n",
    "sns.countplot(x='Married', hue='Loan_Status',palette=\"rocket\" ,data=df)"
   ]
  },
  {
   "cell_type": "code",
   "execution_count": 784,
   "id": "efe57338",
   "metadata": {},
   "outputs": [
    {
     "data": {
      "text/html": [
       "<div>\n",
       "<style scoped>\n",
       "    .dataframe tbody tr th:only-of-type {\n",
       "        vertical-align: middle;\n",
       "    }\n",
       "\n",
       "    .dataframe tbody tr th {\n",
       "        vertical-align: top;\n",
       "    }\n",
       "\n",
       "    .dataframe thead th {\n",
       "        text-align: right;\n",
       "    }\n",
       "</style>\n",
       "<table border=\"1\" class=\"dataframe\">\n",
       "  <thead>\n",
       "    <tr style=\"text-align: right;\">\n",
       "      <th></th>\n",
       "      <th>Gender</th>\n",
       "      <th>Education</th>\n",
       "      <th>Approval_Rate</th>\n",
       "    </tr>\n",
       "  </thead>\n",
       "  <tbody>\n",
       "    <tr>\n",
       "      <th>0</th>\n",
       "      <td>Female</td>\n",
       "      <td>Graduate</td>\n",
       "      <td>0.578125</td>\n",
       "    </tr>\n",
       "    <tr>\n",
       "      <th>1</th>\n",
       "      <td>Female</td>\n",
       "      <td>Not Graduate</td>\n",
       "      <td>0.636364</td>\n",
       "    </tr>\n",
       "    <tr>\n",
       "      <th>2</th>\n",
       "      <td>Male</td>\n",
       "      <td>Graduate</td>\n",
       "      <td>0.764479</td>\n",
       "    </tr>\n",
       "    <tr>\n",
       "      <th>3</th>\n",
       "      <td>Male</td>\n",
       "      <td>Not Graduate</td>\n",
       "      <td>0.614458</td>\n",
       "    </tr>\n",
       "  </tbody>\n",
       "</table>\n",
       "</div>"
      ],
      "text/plain": [
       "   Gender     Education  Approval_Rate\n",
       "0  Female      Graduate       0.578125\n",
       "1  Female  Not Graduate       0.636364\n",
       "2    Male      Graduate       0.764479\n",
       "3    Male  Not Graduate       0.614458"
      ]
     },
     "execution_count": 784,
     "metadata": {},
     "output_type": "execute_result"
    }
   ],
   "source": [
    "# compute the approval rate by gender and education level\n",
    "approval_rate = df.groupby(['Gender', 'Education'])['Loan_Status'].apply(lambda x: (x=='Y').sum() / len(x)).reset_index()\n",
    "approval_rate.rename(columns={'Loan_Status': 'Approval_Rate'}, inplace=True)\n",
    "approval_rate"
   ]
  },
  {
   "cell_type": "code",
   "execution_count": 785,
   "id": "0de8c150",
   "metadata": {},
   "outputs": [
    {
     "data": {
      "text/plain": [
       "<seaborn.axisgrid.FacetGrid at 0x1ada25a6f90>"
      ]
     },
     "execution_count": 785,
     "metadata": {},
     "output_type": "execute_result"
    },
    {
     "data": {
      "image/png": "[encoded data removed]",
      "text/plain": [
       "<Figure size 1105.6x500 with 2 Axes>"
      ]
     },
     "metadata": {},
     "output_type": "display_data"
    }
   ],
   "source": [
    "# create a count plot of loan approval by gender and education level\n",
    "sns.catplot(x='Gender', hue='Loan_Status', col='Education', kind='count', data=df)\n",
    "# graduated male has high value of approval of loan"
   ]
  },
  {
   "cell_type": "markdown",
   "id": "35d9c4e4",
   "metadata": {},
   "source": [
    "<h1 style=\"font-family:cursive; font-size:1.5em;color:brown;\"> -Is there any relationship between loan approval status and the number of dependents? </h1>"
   ]
  },
  {
   "cell_type": "code",
   "execution_count": 787,
   "id": "3f79f1f3",
   "metadata": {},
   "outputs": [
    {
     "data": {
      "text/plain": [
       "<Axes: xlabel='Dependents', ylabel='count'>"
      ]
     },
     "execution_count": 787,
     "metadata": {},
     "output_type": "execute_result"
    },
    {
     "data": {
      "image/png": "[encoded data removed]",
      "text/plain": [
       "<Figure size 400x600 with 1 Axes>"
      ]
     },
     "metadata": {},
     "output_type": "display_data"
    }
   ],
   "source": [
    "pal = ['#EDBB99','#D2B4DE']\n",
    "sns.countplot(x='Dependents' , hue='Loan_Status',data=df , palette=pal)\n",
    "#0 dependent has high periorty"
   ]
  },
  {
   "cell_type": "code",
   "execution_count": null,
   "id": "8cf80197",
   "metadata": {},
   "outputs": [],
   "source": [
    "sns.boxplot(x='Loan_Status',y='Dependents',data=df)"
   ]
  },
  {
   "cell_type": "code",
   "execution_count": null,
   "id": "9e54ff32",
   "metadata": {},
   "outputs": [],
   "source": [
    "sns.countplot(x='Dependents', hue='Loan_Status', data=df)\n",
    "#this show that hat the person that has zero Dependence has  high priority  of loan approval"
   ]
  },
  {
   "cell_type": "markdown",
   "id": "a39a62e2",
   "metadata": {},
   "source": [
    " <h1 style=\"font-family:cursive; font-size:1.5em;color:brown;\"> -Is there any relationship between loan approval status and ApplicantIncome?</h1>"
   ]
  },
  {
   "cell_type": "code",
   "execution_count": 476,
   "id": "79c1ee53",
   "metadata": {},
   "outputs": [
    {
     "data": {
      "text/plain": [
       "Loan_Status\n",
       "N     503511\n",
       "Y    1220254\n",
       "Name: ApplicantIncome, dtype: int64"
      ]
     },
     "execution_count": 476,
     "metadata": {},
     "output_type": "execute_result"
    }
   ],
   "source": [
    "df.groupby(\"Loan_Status\")[\"ApplicantIncome\"].sum()"
   ]
  },
  {
   "cell_type": "code",
   "execution_count": 477,
   "id": "50f0bf64",
   "metadata": {},
   "outputs": [
    {
     "name": "stdout",
     "output_type": "stream",
     "text": [
      "             count         mean          std    min      25%     50%      75%   \n",
      "Loan_Status                                                                     \n",
      "N            124.0  4060.572581  1916.468815  150.0  2707.75  3590.5  4699.75  \\\n",
      "Y            293.0  4164.689420  1920.558768  645.0  2799.00  3704.0  5000.00   \n",
      "\n",
      "                 max  \n",
      "Loan_Status           \n",
      "N            10000.0  \n",
      "Y            10139.0  \n"
     ]
    }
   ],
   "source": [
    "summary = df.groupby('Loan_Status')['ApplicantIncome'].describe()\n",
    "\n",
    "# print the results\n",
    "print(summary)"
   ]
  },
  {
   "cell_type": "code",
   "execution_count": 481,
   "id": "0d8f720b",
   "metadata": {},
   "outputs": [
    {
     "name": "stdout",
     "output_type": "stream",
     "text": [
      "Income_Range  Loan_Status\n",
      "Low           N               23\n",
      "              Y               55\n",
      "Moderate      N               74\n",
      "              Y              165\n",
      "High          N               18\n",
      "              Y               49\n",
      "Very High     N                9\n",
      "              Y               23\n",
      "Ultra High    N                0\n",
      "              Y                1\n",
      "Name: Loan_Status, dtype: int64\n"
     ]
    }
   ],
   "source": [
    "\n",
    "bins = [0, 2500, 5000, 7500, 10000, df['ApplicantIncome'].max()]\n",
    "\n",
    "# create labels for the bins\n",
    "labels = ['Low', 'Moderate', 'High', 'Very High', 'Ultra High']\n",
    "\n",
    "# create a new column with the income range of each applicant\n",
    "df['Income_Range'] = pd.cut(df['ApplicantIncome'], bins=bins, labels=labels)\n",
    "\n",
    "# count the number of approved and rejected loans for each income range\n",
    "counts = df.groupby(['Income_Range', 'Loan_Status'])['Loan_Status'].count()\n",
    "\n",
    "# print the results\n",
    "print(counts)\n",
    "# There is relation between them"
   ]
  },
  {
   "cell_type": "code",
   "execution_count": 482,
   "id": "d128dff9",
   "metadata": {},
   "outputs": [
    {
     "data": {
      "image/png": "[encoded data removed]",
      "text/plain": [
       "<Figure size 400x600 with 1 Axes>"
      ]
     },
     "metadata": {},
     "output_type": "display_data"
    }
   ],
   "source": [
    "sns.boxplot(x='Loan_Status', y='ApplicantIncome', data=df, palette=['red', 'green'])\n",
    "\n",
    "# add labels and title\n",
    "plt.xlabel('Loan Approval Status')\n",
    "plt.ylabel('Applicant Income')\n",
    "plt.title('Relationship between Loan Approval Status and Applicant Income')\n",
    "\n",
    "# display the plot\n",
    "plt.show()"
   ]
  },
  {
   "cell_type": "code",
   "execution_count": 484,
   "id": "4f6e2e55",
   "metadata": {},
   "outputs": [
    {
     "data": {
      "text/html": [
       "<div>\n",
       "<style scoped>\n",
       "    .dataframe tbody tr th:only-of-type {\n",
       "        vertical-align: middle;\n",
       "    }\n",
       "\n",
       "    .dataframe tbody tr th {\n",
       "        vertical-align: top;\n",
       "    }\n",
       "\n",
       "    .dataframe thead th {\n",
       "        text-align: right;\n",
       "    }\n",
       "</style>\n",
       "<table border=\"1\" class=\"dataframe\">\n",
       "  <thead>\n",
       "    <tr style=\"text-align: right;\">\n",
       "      <th></th>\n",
       "      <th>ApplicantIncome</th>\n",
       "      <th>LoanAmount</th>\n",
       "    </tr>\n",
       "  </thead>\n",
       "  <tbody>\n",
       "    <tr>\n",
       "      <th>ApplicantIncome</th>\n",
       "      <td>1.000000</td>\n",
       "      <td>0.521094</td>\n",
       "    </tr>\n",
       "    <tr>\n",
       "      <th>LoanAmount</th>\n",
       "      <td>0.521094</td>\n",
       "      <td>1.000000</td>\n",
       "    </tr>\n",
       "  </tbody>\n",
       "</table>\n",
       "</div>"
      ],
      "text/plain": [
       "                 ApplicantIncome  LoanAmount\n",
       "ApplicantIncome         1.000000    0.521094\n",
       "LoanAmount              0.521094    1.000000"
      ]
     },
     "execution_count": 484,
     "metadata": {},
     "output_type": "execute_result"
    }
   ],
   "source": [
    "df[['ApplicantIncome', 'LoanAmount']].corr()\n",
    "\n",
    "# This positive correlation suggests that there is a tendency for higher income applicants to request higher loan amounts. "
   ]
  },
  {
   "cell_type": "markdown",
   "id": "552a20e8",
   "metadata": {},
   "source": [
    "<h1 style=\"font-family:cursive; font-size:1.5em;color:brown;\"> -What is the average credit history score among approved loan applicants? </h1>"
   ]
  },
  {
   "cell_type": "code",
   "execution_count": 789,
   "id": "da1dc67d",
   "metadata": {},
   "outputs": [
    {
     "data": {
      "image/png": "[encoded data removed]",
      "text/plain": [
       "<Figure size 400x600 with 1 Axes>"
      ]
     },
     "metadata": {},
     "output_type": "display_data"
    }
   ],
   "source": [
    "pal = ['#D35400','#A569BD']\n",
    "\n",
    "sns.boxplot(x='Credit_History', y='LoanAmount', data=df , palette=pal)\n",
    "plt.title('Distribution of Loan Amounts by Credit History' , {'weight' : 'bold','size': 12} )\n",
    "plt.show()"
   ]
  },
  {
   "cell_type": "code",
   "execution_count": null,
   "id": "d8ccfadf",
   "metadata": {},
   "outputs": [],
   "source": []
  },
  {
   "cell_type": "markdown",
   "id": "7daff0ac",
   "metadata": {},
   "source": [
    "<h1 style=\"font-family:cursive; font-size:1.5em;color:brown;\"> - How debit-to-income affect on loan status ?  </h1>"
   ]
  },
  {
   "cell_type": "code",
   "execution_count": 485,
   "id": "42a47c37",
   "metadata": {},
   "outputs": [
    {
     "data": {
      "text/html": [
       "<div>\n",
       "<style scoped>\n",
       "    .dataframe tbody tr th:only-of-type {\n",
       "        vertical-align: middle;\n",
       "    }\n",
       "\n",
       "    .dataframe tbody tr th {\n",
       "        vertical-align: top;\n",
       "    }\n",
       "\n",
       "    .dataframe thead th {\n",
       "        text-align: right;\n",
       "    }\n",
       "</style>\n",
       "<table border=\"1\" class=\"dataframe\">\n",
       "  <thead>\n",
       "    <tr style=\"text-align: right;\">\n",
       "      <th></th>\n",
       "      <th>count</th>\n",
       "      <th>mean</th>\n",
       "      <th>std</th>\n",
       "      <th>min</th>\n",
       "      <th>25%</th>\n",
       "      <th>50%</th>\n",
       "      <th>75%</th>\n",
       "      <th>max</th>\n",
       "    </tr>\n",
       "    <tr>\n",
       "      <th>Loan_Status</th>\n",
       "      <th></th>\n",
       "      <th></th>\n",
       "      <th></th>\n",
       "      <th></th>\n",
       "      <th></th>\n",
       "      <th></th>\n",
       "      <th></th>\n",
       "      <th></th>\n",
       "    </tr>\n",
       "  </thead>\n",
       "  <tbody>\n",
       "    <tr>\n",
       "      <th>N</th>\n",
       "      <td>124.0</td>\n",
       "      <td>14258.613501</td>\n",
       "      <td>25159.074350</td>\n",
       "      <td>1051.303616</td>\n",
       "      <td>6289.999000</td>\n",
       "      <td>8691.978566</td>\n",
       "      <td>13076.801267</td>\n",
       "      <td>250000.0000</td>\n",
       "    </tr>\n",
       "    <tr>\n",
       "      <th>Y</th>\n",
       "      <td>293.0</td>\n",
       "      <td>10276.891160</td>\n",
       "      <td>5233.886007</td>\n",
       "      <td>1320.816061</td>\n",
       "      <td>7025.389145</td>\n",
       "      <td>8981.267642</td>\n",
       "      <td>12326.113752</td>\n",
       "      <td>40700.0407</td>\n",
       "    </tr>\n",
       "  </tbody>\n",
       "</table>\n",
       "</div>"
      ],
      "text/plain": [
       "             count          mean           std          min          25%   \n",
       "Loan_Status                                                                \n",
       "N            124.0  14258.613501  25159.074350  1051.303616  6289.999000  \\\n",
       "Y            293.0  10276.891160   5233.886007  1320.816061  7025.389145   \n",
       "\n",
       "                     50%           75%          max  \n",
       "Loan_Status                                          \n",
       "N            8691.978566  13076.801267  250000.0000  \n",
       "Y            8981.267642  12326.113752   40700.0407  "
      ]
     },
     "execution_count": 485,
     "metadata": {},
     "output_type": "execute_result"
    }
   ],
   "source": [
    "df.groupby('Loan_Status').describe()['DTI']"
   ]
  },
  {
   "cell_type": "code",
   "execution_count": 720,
   "id": "06bc5ef3",
   "metadata": {},
   "outputs": [
    {
     "data": {
      "text/plain": [
       "<Axes: xlabel='Loan_Status', ylabel='count'>"
      ]
     },
     "execution_count": 720,
     "metadata": {},
     "output_type": "execute_result"
    },
    {
     "data": {
      "image/png": "[encoded data removed]",
      "text/plain": [
       "<Figure size 400x600 with 1 Axes>"
      ]
     },
     "metadata": {},
     "output_type": "display_data"
    }
   ],
   "source": [
    "sns.countplot(x='Loan_Status' , hue='DTI_categories' ,data=df)"
   ]
  },
  {
   "cell_type": "markdown",
   "id": "46db0ba9",
   "metadata": {},
   "source": [
    "<h1 style=\"font-family:cursive; font-size:1.5em;color:brown;\"> -Applicants who have very high  debit-to-income ratio   </h1>"
   ]
  },
  {
   "cell_type": "code",
   "execution_count": 786,
   "id": "8e33b89a",
   "metadata": {},
   "outputs": [
    {
     "data": {
      "text/plain": [
       "Loan_Status\n",
       "N    2\n",
       "Name: count, dtype: int64"
      ]
     },
     "execution_count": 786,
     "metadata": {},
     "output_type": "execute_result"
    }
   ],
   "source": [
    "df[df['DTI_categories']=='Very High']['Loan_Status'].value_counts()"
   ]
  },
  {
   "cell_type": "code",
   "execution_count": null,
   "id": "9e28c404",
   "metadata": {},
   "outputs": [],
   "source": []
  },
  {
   "cell_type": "markdown",
   "id": "210c982b",
   "metadata": {},
   "source": [
    "<h1 style=\"font-family:cursive; font-size:1.5em;color:brown;\"> - What correlation between ApplicantIncome and CoapplicantIncome ?   </h1>"
   ]
  },
  {
   "cell_type": "code",
   "execution_count": 788,
   "id": "ab19816e",
   "metadata": {},
   "outputs": [
    {
     "data": {
      "text/html": [
       "<div>\n",
       "<style scoped>\n",
       "    .dataframe tbody tr th:only-of-type {\n",
       "        vertical-align: middle;\n",
       "    }\n",
       "\n",
       "    .dataframe tbody tr th {\n",
       "        vertical-align: top;\n",
       "    }\n",
       "\n",
       "    .dataframe thead th {\n",
       "        text-align: right;\n",
       "    }\n",
       "</style>\n",
       "<table border=\"1\" class=\"dataframe\">\n",
       "  <thead>\n",
       "    <tr style=\"text-align: right;\">\n",
       "      <th></th>\n",
       "      <th>CoapplicantIncome</th>\n",
       "      <th>LoanAmount</th>\n",
       "    </tr>\n",
       "  </thead>\n",
       "  <tbody>\n",
       "    <tr>\n",
       "      <th>CoapplicantIncome</th>\n",
       "      <td>1.000000</td>\n",
       "      <td>0.287821</td>\n",
       "    </tr>\n",
       "    <tr>\n",
       "      <th>LoanAmount</th>\n",
       "      <td>0.287821</td>\n",
       "      <td>1.000000</td>\n",
       "    </tr>\n",
       "  </tbody>\n",
       "</table>\n",
       "</div>"
      ],
      "text/plain": [
       "                   CoapplicantIncome  LoanAmount\n",
       "CoapplicantIncome           1.000000    0.287821\n",
       "LoanAmount                  0.287821    1.000000"
      ]
     },
     "execution_count": 788,
     "metadata": {},
     "output_type": "execute_result"
    }
   ],
   "source": [
    "df[['CoapplicantIncome','LoanAmount']].corr()\n",
    "# week correlation"
   ]
  },
  {
   "cell_type": "markdown",
   "id": "97d13fa0",
   "metadata": {},
   "source": [
    "<h1 style=\"font-family:cursive; font-size:1.5em;color:brown;\"> - Get the Relationship Between Applicant Income and Area? </h1>"
   ]
  },
  {
   "cell_type": "code",
   "execution_count": 794,
   "id": "832704d5",
   "metadata": {},
   "outputs": [
    {
     "data": {
      "text/plain": [
       "Property_Area\n",
       "Rural        10000\n",
       "Semiurban    10139\n",
       "Urban         9703\n",
       "Name: ApplicantIncome, dtype: int64"
      ]
     },
     "execution_count": 794,
     "metadata": {},
     "output_type": "execute_result"
    }
   ],
   "source": [
    "df.groupby('Property_Area').max()['ApplicantIncome']"
   ]
  },
  {
   "cell_type": "code",
   "execution_count": 790,
   "id": "6e682bb4",
   "metadata": {},
   "outputs": [
    {
     "data": {
      "text/plain": [
       "<Axes: xlabel='Property_Area', ylabel='ApplicantIncome'>"
      ]
     },
     "execution_count": 790,
     "metadata": {},
     "output_type": "execute_result"
    },
    {
     "data": {
      "image/png": "[encoded data removed]",
      "text/plain": [
       "<Figure size 400x600 with 1 Axes>"
      ]
     },
     "metadata": {},
     "output_type": "display_data"
    }
   ],
   "source": [
    "sns.barplot(x=\"Property_Area\", y=\"ApplicantIncome\", data=df,   estimator=np.sum ,palette='rocket')"
   ]
  },
  {
   "cell_type": "markdown",
   "id": "1de8d4c2",
   "metadata": {},
   "source": [
    "<h1 style=\"font-family:Times New Roman; font-size:6m;color:BLUE;\"><em> Data Preparation for Machine Learning</em> </h1>"
   ]
  },
  {
   "cell_type": "code",
   "execution_count": 364,
   "id": "781d196c",
   "metadata": {},
   "outputs": [],
   "source": [
    "def Create_Target(l):\n",
    "    if l =='Y' :\n",
    "        return 1\n",
    "    else:\n",
    "        return 0"
   ]
  },
  {
   "cell_type": "code",
   "execution_count": 365,
   "id": "987246b9",
   "metadata": {},
   "outputs": [],
   "source": [
    "df[\"Loan_Status\"] = df[\"Loan_Status\"].apply(Create_Target)"
   ]
  },
  {
   "cell_type": "code",
   "execution_count": 366,
   "id": "06025dac",
   "metadata": {},
   "outputs": [],
   "source": [
    "df = df[['Gender', 'Married', 'Dependents', 'Education', 'Self_Employed',\n",
    "       'ApplicantIncome', 'CoapplicantIncome', 'LoanAmount',\n",
    "       'Loan_Amount_Term', 'Credit_History', 'Property_Area','Loan_Status','DTI']]"
   ]
  },
  {
   "cell_type": "markdown",
   "id": "d3816866",
   "metadata": {},
   "source": [
    "## ◾ Decide Scaling Techniques"
   ]
  },
  {
   "cell_type": "markdown",
   "id": "a9b3d7b8",
   "metadata": {},
   "source": [
    "#### Decide the appropiate Type for Encoding"
   ]
  },
  {
   "cell_type": "code",
   "execution_count": 367,
   "id": "1a074905",
   "metadata": {},
   "outputs": [],
   "source": [
    "Cat_feat = df.select_dtypes(include=\"object_\")"
   ]
  },
  {
   "cell_type": "code",
   "execution_count": 368,
   "id": "a215d5e4",
   "metadata": {},
   "outputs": [
    {
     "name": "stdout",
     "output_type": "stream",
     "text": [
      "Feature Gender has 2 unique values \n",
      "Feature Married has 2 unique values \n",
      "Feature Dependents has 4 unique values \n",
      "Feature Education has 2 unique values \n",
      "Feature Self_Employed has 2 unique values \n",
      "Feature Property_Area has 3 unique values \n"
     ]
    }
   ],
   "source": [
    "for feature in Cat_feat:\n",
    "    print(f\"Feature {feature} has {Cat_feat[feature].nunique()} unique values \")"
   ]
  },
  {
   "cell_type": "code",
   "execution_count": null,
   "id": "ba638232",
   "metadata": {},
   "outputs": [],
   "source": []
  },
  {
   "cell_type": "markdown",
   "id": "2a8d5164",
   "metadata": {},
   "source": [
    "### we will do one hot encoding for :\n",
    "    - Gender \n",
    "    - Married \n",
    "    - Education \n",
    "    - Self_Employed  \n",
    "    - Property_Area  "
   ]
  },
  {
   "cell_type": "code",
   "execution_count": null,
   "id": "80660c88",
   "metadata": {},
   "outputs": [],
   "source": []
  },
  {
   "cell_type": "code",
   "execution_count": 369,
   "id": "c4493640",
   "metadata": {},
   "outputs": [],
   "source": [
    "Encoder = ColumnTransformer(transformers=[(\"OHE\",OneHotEncoder(sparse=False , drop=\"first\" ),[\"Gender\" , \"Married\",\"Education\",\"Self_Employed\",\"Property_Area\"])], remainder = \"passthrough\")"
   ]
  },
  {
   "cell_type": "code",
   "execution_count": 370,
   "id": "481a3c81",
   "metadata": {},
   "outputs": [
    {
     "data": {
      "text/plain": [
       "Index(['Gender', 'Married', 'Dependents', 'Education', 'Self_Employed',\n",
       "       'ApplicantIncome', 'CoapplicantIncome', 'LoanAmount',\n",
       "       'Loan_Amount_Term', 'Credit_History', 'Property_Area', 'Loan_Status',\n",
       "       'DTI'],\n",
       "      dtype='object')"
      ]
     },
     "execution_count": 370,
     "metadata": {},
     "output_type": "execute_result"
    }
   ],
   "source": [
    "df.columns"
   ]
  },
  {
   "cell_type": "code",
   "execution_count": 795,
   "id": "f309383b",
   "metadata": {},
   "outputs": [],
   "source": [
    "df.drop(\"DTI_categories\" , axis = 1 ,inplace=True)"
   ]
  },
  {
   "cell_type": "code",
   "execution_count": 373,
   "id": "45b2bd63",
   "metadata": {},
   "outputs": [],
   "source": [
    "x = df.drop(\"Loan_Status\" , axis = 1 )\n",
    "y = df[\"Loan_Status\"]"
   ]
  },
  {
   "cell_type": "code",
   "execution_count": 374,
   "id": "61984325",
   "metadata": {},
   "outputs": [],
   "source": [
    "from sklearn.neighbors import KNeighborsClassifier\n",
    "from sklearn.tree import DecisionTreeClassifier\n",
    "from sklearn.ensemble import RandomForestClassifier\n",
    "from xgboost import XGBClassifier\n",
    "from sklearn.linear_model import LogisticRegression\n",
    "from category_encoders import OrdinalEncoder"
   ]
  },
  {
   "cell_type": "code",
   "execution_count": 375,
   "id": "2688d538",
   "metadata": {},
   "outputs": [],
   "source": [
    "Encoder = ColumnTransformer(\n",
    "    transformers=[\n",
    "        (\"OrE\", OrdinalEncoder(cols=[\"Dependents\"], mapping=[{'col': 'Dependents', 'mapping': {'0': 1, '1': 2, '2': 3, '3+': 4}}])),\n",
    "        (\"OHE\", OneHotEncoder(sparse=False, drop=\"first\"), ['Gender', 'Married', 'Education', 'Self_Employed', 'Credit_History', 'Property_Area'])\n",
    "    ],\n",
    "    remainder=\"passthrough\"\n",
    ")"
   ]
  },
  {
   "cell_type": "code",
   "execution_count": 376,
   "id": "a96a2dbc",
   "metadata": {},
   "outputs": [
    {
     "data": {
      "text/html": [
       "<style>#sk-container-id-11 {color: black;background-color: white;}#sk-container-id-11 pre{padding: 0;}#sk-container-id-11 div.sk-toggleable {background-color: white;}#sk-container-id-11 label.sk-toggleable__label {cursor: pointer;display: block;width: 100%;margin-bottom: 0;padding: 0.3em;box-sizing: border-box;text-align: center;}#sk-container-id-11 label.sk-toggleable__label-arrow:before {content: \"▸\";float: left;margin-right: 0.25em;color: #696969;}#sk-container-id-11 label.sk-toggleable__label-arrow:hover:before {color: black;}#sk-container-id-11 div.sk-estimator:hover label.sk-toggleable__label-arrow:before {color: black;}#sk-container-id-11 div.sk-toggleable__content {max-height: 0;max-width: 0;overflow: hidden;text-align: left;background-color: #f0f8ff;}#sk-container-id-11 div.sk-toggleable__content pre {margin: 0.2em;color: black;border-radius: 0.25em;background-color: #f0f8ff;}#sk-container-id-11 input.sk-toggleable__control:checked~div.sk-toggleable__content {max-height: 200px;max-width: 100%;overflow: auto;}#sk-container-id-11 input.sk-toggleable__control:checked~label.sk-toggleable__label-arrow:before {content: \"▾\";}#sk-container-id-11 div.sk-estimator input.sk-toggleable__control:checked~label.sk-toggleable__label {background-color: #d4ebff;}#sk-container-id-11 div.sk-label input.sk-toggleable__control:checked~label.sk-toggleable__label {background-color: #d4ebff;}#sk-container-id-11 input.sk-hidden--visually {border: 0;clip: rect(1px 1px 1px 1px);clip: rect(1px, 1px, 1px, 1px);height: 1px;margin: -1px;overflow: hidden;padding: 0;position: absolute;width: 1px;}#sk-container-id-11 div.sk-estimator {font-family: monospace;background-color: #f0f8ff;border: 1px dotted black;border-radius: 0.25em;box-sizing: border-box;margin-bottom: 0.5em;}#sk-container-id-11 div.sk-estimator:hover {background-color: #d4ebff;}#sk-container-id-11 div.sk-parallel-item::after {content: \"\";width: 100%;border-bottom: 1px solid gray;flex-grow: 1;}#sk-container-id-11 div.sk-label:hover label.sk-toggleable__label {background-color: #d4ebff;}#sk-container-id-11 div.sk-serial::before {content: \"\";position: absolute;border-left: 1px solid gray;box-sizing: border-box;top: 0;bottom: 0;left: 50%;z-index: 0;}#sk-container-id-11 div.sk-serial {display: flex;flex-direction: column;align-items: center;background-color: white;padding-right: 0.2em;padding-left: 0.2em;position: relative;}#sk-container-id-11 div.sk-item {position: relative;z-index: 1;}#sk-container-id-11 div.sk-parallel {display: flex;align-items: stretch;justify-content: center;background-color: white;position: relative;}#sk-container-id-11 div.sk-item::before, #sk-container-id-11 div.sk-parallel-item::before {content: \"\";position: absolute;border-left: 1px solid gray;box-sizing: border-box;top: 0;bottom: 0;left: 50%;z-index: -1;}#sk-container-id-11 div.sk-parallel-item {display: flex;flex-direction: column;z-index: 1;position: relative;background-color: white;}#sk-container-id-11 div.sk-parallel-item:first-child::after {align-self: flex-end;width: 50%;}#sk-container-id-11 div.sk-parallel-item:last-child::after {align-self: flex-start;width: 50%;}#sk-container-id-11 div.sk-parallel-item:only-child::after {width: 0;}#sk-container-id-11 div.sk-dashed-wrapped {border: 1px dashed gray;margin: 0 0.4em 0.5em 0.4em;box-sizing: border-box;padding-bottom: 0.4em;background-color: white;}#sk-container-id-11 div.sk-label label {font-family: monospace;font-weight: bold;display: inline-block;line-height: 1.2em;}#sk-container-id-11 div.sk-label-container {text-align: center;}#sk-container-id-11 div.sk-container {/* jupyter's `normalize.less` sets `[hidden] { display: none; }` but bootstrap.min.css set `[hidden] { display: none !important; }` so we also need the `!important` here to be able to override the default hidden behavior on the sphinx rendered scikit-learn.org. See: https://github.com/scikit-learn/scikit-learn/issues/21755 */display: inline-block !important;position: relative;}#sk-container-id-11 div.sk-text-repr-fallback {display: none;}</style><div id=\"sk-container-id-11\" class=\"sk-top-container\"><div class=\"sk-text-repr-fallback\"><pre>ColumnTransformer(remainder=&#x27;passthrough&#x27;,\n",
       "                  transformers=[(&#x27;OrE&#x27;,\n",
       "                                 OrdinalEncoder(cols=[&#x27;Dependents&#x27;],\n",
       "                                                mapping=[{&#x27;col&#x27;: &#x27;Dependents&#x27;,\n",
       "                                                          &#x27;data_type&#x27;: dtype(&#x27;O&#x27;),\n",
       "                                                          &#x27;mapping&#x27;: 0     1\n",
       "1     2\n",
       "2     3\n",
       "3+    4\n",
       "dtype: int64}]),\n",
       "                                 [&#x27;Dependents&#x27;]),\n",
       "                                (&#x27;OHE&#x27;,\n",
       "                                 OneHotEncoder(drop=&#x27;first&#x27;, sparse=False),\n",
       "                                 [&#x27;Gender&#x27;, &#x27;Married&#x27;, &#x27;Education&#x27;,\n",
       "                                  &#x27;Self_Employed&#x27;, &#x27;Credit_History&#x27;,\n",
       "                                  &#x27;Property_Area&#x27;])])</pre><b>In a Jupyter environment, please rerun this cell to show the HTML representation or trust the notebook. <br />On GitHub, the HTML representation is unable to render, please try loading this page with nbviewer.org.</b></div><div class=\"sk-container\" hidden><div class=\"sk-item sk-dashed-wrapped\"><div class=\"sk-label-container\"><div class=\"sk-label sk-toggleable\"><input class=\"sk-toggleable__control sk-hidden--visually\" id=\"sk-estimator-id-101\" type=\"checkbox\" ><label for=\"sk-estimator-id-101\" class=\"sk-toggleable__label sk-toggleable__label-arrow\">ColumnTransformer</label><div class=\"sk-toggleable__content\"><pre>ColumnTransformer(remainder=&#x27;passthrough&#x27;,\n",
       "                  transformers=[(&#x27;OrE&#x27;,\n",
       "                                 OrdinalEncoder(cols=[&#x27;Dependents&#x27;],\n",
       "                                                mapping=[{&#x27;col&#x27;: &#x27;Dependents&#x27;,\n",
       "                                                          &#x27;data_type&#x27;: dtype(&#x27;O&#x27;),\n",
       "                                                          &#x27;mapping&#x27;: 0     1\n",
       "1     2\n",
       "2     3\n",
       "3+    4\n",
       "dtype: int64}]),\n",
       "                                 [&#x27;Dependents&#x27;]),\n",
       "                                (&#x27;OHE&#x27;,\n",
       "                                 OneHotEncoder(drop=&#x27;first&#x27;, sparse=False),\n",
       "                                 [&#x27;Gender&#x27;, &#x27;Married&#x27;, &#x27;Education&#x27;,\n",
       "                                  &#x27;Self_Employed&#x27;, &#x27;Credit_History&#x27;,\n",
       "                                  &#x27;Property_Area&#x27;])])</pre></div></div></div><div class=\"sk-parallel\"><div class=\"sk-parallel-item\"><div class=\"sk-item\"><div class=\"sk-label-container\"><div class=\"sk-label sk-toggleable\"><input class=\"sk-toggleable__control sk-hidden--visually\" id=\"sk-estimator-id-102\" type=\"checkbox\" ><label for=\"sk-estimator-id-102\" class=\"sk-toggleable__label sk-toggleable__label-arrow\">OrE</label><div class=\"sk-toggleable__content\"><pre>[&#x27;Dependents&#x27;]</pre></div></div></div><div class=\"sk-serial\"><div class=\"sk-item\"><div class=\"sk-estimator sk-toggleable\"><input class=\"sk-toggleable__control sk-hidden--visually\" id=\"sk-estimator-id-103\" type=\"checkbox\" ><label for=\"sk-estimator-id-103\" class=\"sk-toggleable__label sk-toggleable__label-arrow\">OrdinalEncoder</label><div class=\"sk-toggleable__content\"><pre>OrdinalEncoder(cols=[&#x27;Dependents&#x27;],\n",
       "               mapping=[{&#x27;col&#x27;: &#x27;Dependents&#x27;, &#x27;data_type&#x27;: dtype(&#x27;O&#x27;),\n",
       "                         &#x27;mapping&#x27;: 0     1\n",
       "1     2\n",
       "2     3\n",
       "3+    4\n",
       "dtype: int64}])</pre></div></div></div></div></div></div><div class=\"sk-parallel-item\"><div class=\"sk-item\"><div class=\"sk-label-container\"><div class=\"sk-label sk-toggleable\"><input class=\"sk-toggleable__control sk-hidden--visually\" id=\"sk-estimator-id-104\" type=\"checkbox\" ><label for=\"sk-estimator-id-104\" class=\"sk-toggleable__label sk-toggleable__label-arrow\">OHE</label><div class=\"sk-toggleable__content\"><pre>[&#x27;Gender&#x27;, &#x27;Married&#x27;, &#x27;Education&#x27;, &#x27;Self_Employed&#x27;, &#x27;Credit_History&#x27;, &#x27;Property_Area&#x27;]</pre></div></div></div><div class=\"sk-serial\"><div class=\"sk-item\"><div class=\"sk-estimator sk-toggleable\"><input class=\"sk-toggleable__control sk-hidden--visually\" id=\"sk-estimator-id-105\" type=\"checkbox\" ><label for=\"sk-estimator-id-105\" class=\"sk-toggleable__label sk-toggleable__label-arrow\">OneHotEncoder</label><div class=\"sk-toggleable__content\"><pre>OneHotEncoder(drop=&#x27;first&#x27;, sparse=False)</pre></div></div></div></div></div></div><div class=\"sk-parallel-item\"><div class=\"sk-item\"><div class=\"sk-label-container\"><div class=\"sk-label sk-toggleable\"><input class=\"sk-toggleable__control sk-hidden--visually\" id=\"sk-estimator-id-106\" type=\"checkbox\" ><label for=\"sk-estimator-id-106\" class=\"sk-toggleable__label sk-toggleable__label-arrow\">remainder</label><div class=\"sk-toggleable__content\"><pre></pre></div></div></div><div class=\"sk-serial\"><div class=\"sk-item\"><div class=\"sk-estimator sk-toggleable\"><input class=\"sk-toggleable__control sk-hidden--visually\" id=\"sk-estimator-id-107\" type=\"checkbox\" ><label for=\"sk-estimator-id-107\" class=\"sk-toggleable__label sk-toggleable__label-arrow\">passthrough</label><div class=\"sk-toggleable__content\"><pre>passthrough</pre></div></div></div></div></div></div></div></div></div></div>"
      ],
      "text/plain": [
       "ColumnTransformer(remainder='passthrough',\n",
       "                  transformers=[('OrE',\n",
       "                                 OrdinalEncoder(cols=['Dependents'],\n",
       "                                                mapping=[{'col': 'Dependents',\n",
       "                                                          'data_type': dtype('O'),\n",
       "                                                          'mapping': 0     1\n",
       "1     2\n",
       "2     3\n",
       "3+    4\n",
       "dtype: int64}]),\n",
       "                                 ['Dependents']),\n",
       "                                ('OHE',\n",
       "                                 OneHotEncoder(drop='first', sparse=False),\n",
       "                                 ['Gender', 'Married', 'Education',\n",
       "                                  'Self_Employed', 'Credit_History',\n",
       "                                  'Property_Area'])])"
      ]
     },
     "execution_count": 376,
     "metadata": {},
     "output_type": "execute_result"
    }
   ],
   "source": [
    "Encoder = ColumnTransformer(\n",
    "    transformers=[( \"OrE\",OrdinalEncoder( cols=[\"Dependents\"] , mapping=[{'col' : 'Dependents','mapping': {'0':1,'1':2,'2':3 , '3+':4}}] ) ,['Dependents'])\n",
    "    ,(\"OHE\",OneHotEncoder(sparse=False , drop=\"first\" ), ['Gender', 'Married', 'Education', 'Self_Employed','Credit_History', 'Property_Area']) ]\n",
    "    , remainder = \"passthrough\")\n",
    "Encoder"
   ]
  },
  {
   "cell_type": "code",
   "execution_count": 377,
   "id": "f1234f6c",
   "metadata": {},
   "outputs": [],
   "source": [
    "models = list()\n",
    "models.append((\"LR\" , LogisticRegression()))\n",
    "models.append((\"KNN\" , KNeighborsClassifier()))\n",
    "models.append((\"CART\" , DecisionTreeClassifier()))\n",
    "models.append((\"RF\" , RandomForestClassifier()))\n",
    "models.append((\"xg\" , XGBClassifier()))"
   ]
  },
  {
   "cell_type": "code",
   "execution_count": 378,
   "id": "70601beb",
   "metadata": {},
   "outputs": [
    {
     "name": "stdout",
     "output_type": "stream",
     "text": [
      "LR\n",
      "Train_accuracy 0.8273399147650645\n",
      "----------\n",
      "Test_accuracy 0.8201950659781986\n",
      "--------------------\n",
      "\n",
      "\n",
      "KNN\n",
      "Train_accuracy 0.8093560626494758\n",
      "----------\n",
      "Test_accuracy 0.7385829030407344\n",
      "--------------------\n",
      "\n",
      "\n",
      "CART\n",
      "Train_accuracy 1.0\n",
      "----------\n",
      "Test_accuracy 0.7433448078026391\n",
      "--------------------\n",
      "\n",
      "\n",
      "RF\n",
      "Train_accuracy 1.0\n",
      "----------\n",
      "Test_accuracy 0.8129661503155479\n",
      "--------------------\n",
      "\n",
      "\n",
      "xg\n",
      "Train_accuracy 1.0\n",
      "----------\n",
      "Test_accuracy 0.7938037865748709\n",
      "--------------------\n",
      "\n",
      "\n"
     ]
    }
   ],
   "source": [
    "for model in models:\n",
    "    steps = []\n",
    "    steps.append((\"Encoder\" , Encoder))\n",
    "    steps.append((\"Scaler\" , RobustScaler()))\n",
    "    steps.append(model)\n",
    "    pipeline = Pipeline(steps=steps)\n",
    "    scores = cross_validate(pipeline ,x ,y , cv = 5 , scoring=\"accuracy\" , return_train_score=True)\n",
    "    print(model[0])\n",
    "    print(\"Train_accuracy\" , scores[\"train_score\"].mean() )\n",
    "    print(\"-\" * 10)\n",
    "    print(\"Test_accuracy\" , scores[\"test_score\"].mean())\n",
    "    print(\"-\" * 20)\n",
    "    print(\"\\n\")"
   ]
  },
  {
   "cell_type": "code",
   "execution_count": 379,
   "id": "d44b6c13",
   "metadata": {},
   "outputs": [
    {
     "data": {
      "text/plain": [
       "Index(['Gender', 'Married', 'Dependents', 'Education', 'Self_Employed',\n",
       "       'ApplicantIncome', 'CoapplicantIncome', 'LoanAmount',\n",
       "       'Loan_Amount_Term', 'Credit_History', 'Property_Area', 'Loan_Status',\n",
       "       'DTI'],\n",
       "      dtype='object')"
      ]
     },
     "execution_count": 379,
     "metadata": {},
     "output_type": "execute_result"
    }
   ],
   "source": [
    "df.columns"
   ]
  },
  {
   "cell_type": "code",
   "execution_count": 380,
   "id": "1ab1bd4b",
   "metadata": {},
   "outputs": [],
   "source": [
    "from sklearn.preprocessing import OneHotEncoder , RobustScaler ,MinMaxScaler , StandardScaler \n",
    "steps = []\n",
    "steps.append((\"Encoder\" , Encoder))\n",
    "steps.append((\"Scaler\" , MinMaxScaler()))\n",
    "steps.append((\"Model\" ,LogisticRegression()))\n",
    "pipeline = Pipeline(steps=steps)"
   ]
  },
  {
   "cell_type": "code",
   "execution_count": 381,
   "id": "8d88bb34",
   "metadata": {},
   "outputs": [],
   "source": [
    "params = {'Model__penalty': ['l1', 'l2','elasticnet'],\n",
    "          'Model__C': [2,2.1,2.2,2.3],\n",
    "          'Model__solver': ['liblinear', 'saga',]}\n"
   ]
  },
  {
   "cell_type": "code",
   "execution_count": 382,
   "id": "872ef16d",
   "metadata": {},
   "outputs": [],
   "source": [
    "steps = []\n",
    "steps.append((\"Encoder\" , Encoder))\n",
    "steps.append((\"Scaler\" , RobustScaler()))\n",
    "steps.append((\"Model\" , LogisticRegression()))\n",
    "pipeline = Pipeline(steps=steps)"
   ]
  },
  {
   "cell_type": "code",
   "execution_count": 383,
   "id": "4a822144",
   "metadata": {},
   "outputs": [
    {
     "data": {
      "text/html": [
       "<style>#sk-container-id-12 {color: black;background-color: white;}#sk-container-id-12 pre{padding: 0;}#sk-container-id-12 div.sk-toggleable {background-color: white;}#sk-container-id-12 label.sk-toggleable__label {cursor: pointer;display: block;width: 100%;margin-bottom: 0;padding: 0.3em;box-sizing: border-box;text-align: center;}#sk-container-id-12 label.sk-toggleable__label-arrow:before {content: \"▸\";float: left;margin-right: 0.25em;color: #696969;}#sk-container-id-12 label.sk-toggleable__label-arrow:hover:before {color: black;}#sk-container-id-12 div.sk-estimator:hover label.sk-toggleable__label-arrow:before {color: black;}#sk-container-id-12 div.sk-toggleable__content {max-height: 0;max-width: 0;overflow: hidden;text-align: left;background-color: #f0f8ff;}#sk-container-id-12 div.sk-toggleable__content pre {margin: 0.2em;color: black;border-radius: 0.25em;background-color: #f0f8ff;}#sk-container-id-12 input.sk-toggleable__control:checked~div.sk-toggleable__content {max-height: 200px;max-width: 100%;overflow: auto;}#sk-container-id-12 input.sk-toggleable__control:checked~label.sk-toggleable__label-arrow:before {content: \"▾\";}#sk-container-id-12 div.sk-estimator input.sk-toggleable__control:checked~label.sk-toggleable__label {background-color: #d4ebff;}#sk-container-id-12 div.sk-label input.sk-toggleable__control:checked~label.sk-toggleable__label {background-color: #d4ebff;}#sk-container-id-12 input.sk-hidden--visually {border: 0;clip: rect(1px 1px 1px 1px);clip: rect(1px, 1px, 1px, 1px);height: 1px;margin: -1px;overflow: hidden;padding: 0;position: absolute;width: 1px;}#sk-container-id-12 div.sk-estimator {font-family: monospace;background-color: #f0f8ff;border: 1px dotted black;border-radius: 0.25em;box-sizing: border-box;margin-bottom: 0.5em;}#sk-container-id-12 div.sk-estimator:hover {background-color: #d4ebff;}#sk-container-id-12 div.sk-parallel-item::after {content: \"\";width: 100%;border-bottom: 1px solid gray;flex-grow: 1;}#sk-container-id-12 div.sk-label:hover label.sk-toggleable__label {background-color: #d4ebff;}#sk-container-id-12 div.sk-serial::before {content: \"\";position: absolute;border-left: 1px solid gray;box-sizing: border-box;top: 0;bottom: 0;left: 50%;z-index: 0;}#sk-container-id-12 div.sk-serial {display: flex;flex-direction: column;align-items: center;background-color: white;padding-right: 0.2em;padding-left: 0.2em;position: relative;}#sk-container-id-12 div.sk-item {position: relative;z-index: 1;}#sk-container-id-12 div.sk-parallel {display: flex;align-items: stretch;justify-content: center;background-color: white;position: relative;}#sk-container-id-12 div.sk-item::before, #sk-container-id-12 div.sk-parallel-item::before {content: \"\";position: absolute;border-left: 1px solid gray;box-sizing: border-box;top: 0;bottom: 0;left: 50%;z-index: -1;}#sk-container-id-12 div.sk-parallel-item {display: flex;flex-direction: column;z-index: 1;position: relative;background-color: white;}#sk-container-id-12 div.sk-parallel-item:first-child::after {align-self: flex-end;width: 50%;}#sk-container-id-12 div.sk-parallel-item:last-child::after {align-self: flex-start;width: 50%;}#sk-container-id-12 div.sk-parallel-item:only-child::after {width: 0;}#sk-container-id-12 div.sk-dashed-wrapped {border: 1px dashed gray;margin: 0 0.4em 0.5em 0.4em;box-sizing: border-box;padding-bottom: 0.4em;background-color: white;}#sk-container-id-12 div.sk-label label {font-family: monospace;font-weight: bold;display: inline-block;line-height: 1.2em;}#sk-container-id-12 div.sk-label-container {text-align: center;}#sk-container-id-12 div.sk-container {/* jupyter's `normalize.less` sets `[hidden] { display: none; }` but bootstrap.min.css set `[hidden] { display: none !important; }` so we also need the `!important` here to be able to override the default hidden behavior on the sphinx rendered scikit-learn.org. See: https://github.com/scikit-learn/scikit-learn/issues/21755 */display: inline-block !important;position: relative;}#sk-container-id-12 div.sk-text-repr-fallback {display: none;}</style><div id=\"sk-container-id-12\" class=\"sk-top-container\"><div class=\"sk-text-repr-fallback\"><pre>GridSearchCV(cv=5,\n",
       "             estimator=Pipeline(steps=[(&#x27;Encoder&#x27;,\n",
       "                                        ColumnTransformer(remainder=&#x27;passthrough&#x27;,\n",
       "                                                          transformers=[(&#x27;OrE&#x27;,\n",
       "                                                                         OrdinalEncoder(cols=[&#x27;Dependents&#x27;],\n",
       "                                                                                        mapping=[{&#x27;col&#x27;: &#x27;Dependents&#x27;,\n",
       "                                                                                                  &#x27;data_type&#x27;: dtype(&#x27;O&#x27;),\n",
       "                                                                                                  &#x27;mapping&#x27;: 0     1\n",
       "1     2\n",
       "2     3\n",
       "3+    4\n",
       "dtype: int64}]),\n",
       "                                                                         [&#x27;Dependents&#x27;]),\n",
       "                                                                        (&#x27;OHE&#x27;,\n",
       "                                                                         OneHotEncoder(drop=&#x27;first&#x27;,\n",
       "                                                                                       sparse=False),\n",
       "                                                                         [&#x27;Gender&#x27;,\n",
       "                                                                          &#x27;Married&#x27;,\n",
       "                                                                          &#x27;Education&#x27;,\n",
       "                                                                          &#x27;Self_Employed&#x27;,\n",
       "                                                                          &#x27;Credit_History&#x27;,\n",
       "                                                                          &#x27;Property_Area&#x27;])])),\n",
       "                                       (&#x27;Scaler&#x27;, RobustScaler()),\n",
       "                                       (&#x27;Model&#x27;, LogisticRegression())]),\n",
       "             param_grid={&#x27;Model__C&#x27;: [2, 2.1, 2.2, 2.3],\n",
       "                         &#x27;Model__penalty&#x27;: [&#x27;l1&#x27;, &#x27;l2&#x27;, &#x27;elasticnet&#x27;],\n",
       "                         &#x27;Model__solver&#x27;: [&#x27;liblinear&#x27;, &#x27;saga&#x27;]},\n",
       "             return_train_score=True, scoring=&#x27;accuracy&#x27;)</pre><b>In a Jupyter environment, please rerun this cell to show the HTML representation or trust the notebook. <br />On GitHub, the HTML representation is unable to render, please try loading this page with nbviewer.org.</b></div><div class=\"sk-container\" hidden><div class=\"sk-item sk-dashed-wrapped\"><div class=\"sk-label-container\"><div class=\"sk-label sk-toggleable\"><input class=\"sk-toggleable__control sk-hidden--visually\" id=\"sk-estimator-id-108\" type=\"checkbox\" ><label for=\"sk-estimator-id-108\" class=\"sk-toggleable__label sk-toggleable__label-arrow\">GridSearchCV</label><div class=\"sk-toggleable__content\"><pre>GridSearchCV(cv=5,\n",
       "             estimator=Pipeline(steps=[(&#x27;Encoder&#x27;,\n",
       "                                        ColumnTransformer(remainder=&#x27;passthrough&#x27;,\n",
       "                                                          transformers=[(&#x27;OrE&#x27;,\n",
       "                                                                         OrdinalEncoder(cols=[&#x27;Dependents&#x27;],\n",
       "                                                                                        mapping=[{&#x27;col&#x27;: &#x27;Dependents&#x27;,\n",
       "                                                                                                  &#x27;data_type&#x27;: dtype(&#x27;O&#x27;),\n",
       "                                                                                                  &#x27;mapping&#x27;: 0     1\n",
       "1     2\n",
       "2     3\n",
       "3+    4\n",
       "dtype: int64}]),\n",
       "                                                                         [&#x27;Dependents&#x27;]),\n",
       "                                                                        (&#x27;OHE&#x27;,\n",
       "                                                                         OneHotEncoder(drop=&#x27;first&#x27;,\n",
       "                                                                                       sparse=False),\n",
       "                                                                         [&#x27;Gender&#x27;,\n",
       "                                                                          &#x27;Married&#x27;,\n",
       "                                                                          &#x27;Education&#x27;,\n",
       "                                                                          &#x27;Self_Employed&#x27;,\n",
       "                                                                          &#x27;Credit_History&#x27;,\n",
       "                                                                          &#x27;Property_Area&#x27;])])),\n",
       "                                       (&#x27;Scaler&#x27;, RobustScaler()),\n",
       "                                       (&#x27;Model&#x27;, LogisticRegression())]),\n",
       "             param_grid={&#x27;Model__C&#x27;: [2, 2.1, 2.2, 2.3],\n",
       "                         &#x27;Model__penalty&#x27;: [&#x27;l1&#x27;, &#x27;l2&#x27;, &#x27;elasticnet&#x27;],\n",
       "                         &#x27;Model__solver&#x27;: [&#x27;liblinear&#x27;, &#x27;saga&#x27;]},\n",
       "             return_train_score=True, scoring=&#x27;accuracy&#x27;)</pre></div></div></div><div class=\"sk-parallel\"><div class=\"sk-parallel-item\"><div class=\"sk-item\"><div class=\"sk-label-container\"><div class=\"sk-label sk-toggleable\"><input class=\"sk-toggleable__control sk-hidden--visually\" id=\"sk-estimator-id-109\" type=\"checkbox\" ><label for=\"sk-estimator-id-109\" class=\"sk-toggleable__label sk-toggleable__label-arrow\">estimator: Pipeline</label><div class=\"sk-toggleable__content\"><pre>Pipeline(steps=[(&#x27;Encoder&#x27;,\n",
       "                 ColumnTransformer(remainder=&#x27;passthrough&#x27;,\n",
       "                                   transformers=[(&#x27;OrE&#x27;,\n",
       "                                                  OrdinalEncoder(cols=[&#x27;Dependents&#x27;],\n",
       "                                                                 mapping=[{&#x27;col&#x27;: &#x27;Dependents&#x27;,\n",
       "                                                                           &#x27;data_type&#x27;: dtype(&#x27;O&#x27;),\n",
       "                                                                           &#x27;mapping&#x27;: 0     1\n",
       "1     2\n",
       "2     3\n",
       "3+    4\n",
       "dtype: int64}]),\n",
       "                                                  [&#x27;Dependents&#x27;]),\n",
       "                                                 (&#x27;OHE&#x27;,\n",
       "                                                  OneHotEncoder(drop=&#x27;first&#x27;,\n",
       "                                                                sparse=False),\n",
       "                                                  [&#x27;Gender&#x27;, &#x27;Married&#x27;,\n",
       "                                                   &#x27;Education&#x27;, &#x27;Self_Employed&#x27;,\n",
       "                                                   &#x27;Credit_History&#x27;,\n",
       "                                                   &#x27;Property_Area&#x27;])])),\n",
       "                (&#x27;Scaler&#x27;, RobustScaler()), (&#x27;Model&#x27;, LogisticRegression())])</pre></div></div></div><div class=\"sk-serial\"><div class=\"sk-item\"><div class=\"sk-serial\"><div class=\"sk-item sk-dashed-wrapped\"><div class=\"sk-label-container\"><div class=\"sk-label sk-toggleable\"><input class=\"sk-toggleable__control sk-hidden--visually\" id=\"sk-estimator-id-110\" type=\"checkbox\" ><label for=\"sk-estimator-id-110\" class=\"sk-toggleable__label sk-toggleable__label-arrow\">Encoder: ColumnTransformer</label><div class=\"sk-toggleable__content\"><pre>ColumnTransformer(remainder=&#x27;passthrough&#x27;,\n",
       "                  transformers=[(&#x27;OrE&#x27;,\n",
       "                                 OrdinalEncoder(cols=[&#x27;Dependents&#x27;],\n",
       "                                                mapping=[{&#x27;col&#x27;: &#x27;Dependents&#x27;,\n",
       "                                                          &#x27;data_type&#x27;: dtype(&#x27;O&#x27;),\n",
       "                                                          &#x27;mapping&#x27;: 0     1\n",
       "1     2\n",
       "2     3\n",
       "3+    4\n",
       "dtype: int64}]),\n",
       "                                 [&#x27;Dependents&#x27;]),\n",
       "                                (&#x27;OHE&#x27;,\n",
       "                                 OneHotEncoder(drop=&#x27;first&#x27;, sparse=False),\n",
       "                                 [&#x27;Gender&#x27;, &#x27;Married&#x27;, &#x27;Education&#x27;,\n",
       "                                  &#x27;Self_Employed&#x27;, &#x27;Credit_History&#x27;,\n",
       "                                  &#x27;Property_Area&#x27;])])</pre></div></div></div><div class=\"sk-parallel\"><div class=\"sk-parallel-item\"><div class=\"sk-item\"><div class=\"sk-label-container\"><div class=\"sk-label sk-toggleable\"><input class=\"sk-toggleable__control sk-hidden--visually\" id=\"sk-estimator-id-111\" type=\"checkbox\" ><label for=\"sk-estimator-id-111\" class=\"sk-toggleable__label sk-toggleable__label-arrow\">OrE</label><div class=\"sk-toggleable__content\"><pre>[&#x27;Dependents&#x27;]</pre></div></div></div><div class=\"sk-serial\"><div class=\"sk-item\"><div class=\"sk-estimator sk-toggleable\"><input class=\"sk-toggleable__control sk-hidden--visually\" id=\"sk-estimator-id-112\" type=\"checkbox\" ><label for=\"sk-estimator-id-112\" class=\"sk-toggleable__label sk-toggleable__label-arrow\">OrdinalEncoder</label><div class=\"sk-toggleable__content\"><pre>OrdinalEncoder(cols=[&#x27;Dependents&#x27;],\n",
       "               mapping=[{&#x27;col&#x27;: &#x27;Dependents&#x27;, &#x27;data_type&#x27;: dtype(&#x27;O&#x27;),\n",
       "                         &#x27;mapping&#x27;: 0     1\n",
       "1     2\n",
       "2     3\n",
       "3+    4\n",
       "dtype: int64}])</pre></div></div></div></div></div></div><div class=\"sk-parallel-item\"><div class=\"sk-item\"><div class=\"sk-label-container\"><div class=\"sk-label sk-toggleable\"><input class=\"sk-toggleable__control sk-hidden--visually\" id=\"sk-estimator-id-113\" type=\"checkbox\" ><label for=\"sk-estimator-id-113\" class=\"sk-toggleable__label sk-toggleable__label-arrow\">OHE</label><div class=\"sk-toggleable__content\"><pre>[&#x27;Gender&#x27;, &#x27;Married&#x27;, &#x27;Education&#x27;, &#x27;Self_Employed&#x27;, &#x27;Credit_History&#x27;, &#x27;Property_Area&#x27;]</pre></div></div></div><div class=\"sk-serial\"><div class=\"sk-item\"><div class=\"sk-estimator sk-toggleable\"><input class=\"sk-toggleable__control sk-hidden--visually\" id=\"sk-estimator-id-114\" type=\"checkbox\" ><label for=\"sk-estimator-id-114\" class=\"sk-toggleable__label sk-toggleable__label-arrow\">OneHotEncoder</label><div class=\"sk-toggleable__content\"><pre>OneHotEncoder(drop=&#x27;first&#x27;, sparse=False)</pre></div></div></div></div></div></div><div class=\"sk-parallel-item\"><div class=\"sk-item\"><div class=\"sk-label-container\"><div class=\"sk-label sk-toggleable\"><input class=\"sk-toggleable__control sk-hidden--visually\" id=\"sk-estimator-id-115\" type=\"checkbox\" ><label for=\"sk-estimator-id-115\" class=\"sk-toggleable__label sk-toggleable__label-arrow\">remainder</label><div class=\"sk-toggleable__content\"><pre></pre></div></div></div><div class=\"sk-serial\"><div class=\"sk-item\"><div class=\"sk-estimator sk-toggleable\"><input class=\"sk-toggleable__control sk-hidden--visually\" id=\"sk-estimator-id-116\" type=\"checkbox\" ><label for=\"sk-estimator-id-116\" class=\"sk-toggleable__label sk-toggleable__label-arrow\">passthrough</label><div class=\"sk-toggleable__content\"><pre>passthrough</pre></div></div></div></div></div></div></div></div><div class=\"sk-item\"><div class=\"sk-estimator sk-toggleable\"><input class=\"sk-toggleable__control sk-hidden--visually\" id=\"sk-estimator-id-117\" type=\"checkbox\" ><label for=\"sk-estimator-id-117\" class=\"sk-toggleable__label sk-toggleable__label-arrow\">RobustScaler</label><div class=\"sk-toggleable__content\"><pre>RobustScaler()</pre></div></div></div><div class=\"sk-item\"><div class=\"sk-estimator sk-toggleable\"><input class=\"sk-toggleable__control sk-hidden--visually\" id=\"sk-estimator-id-118\" type=\"checkbox\" ><label for=\"sk-estimator-id-118\" class=\"sk-toggleable__label sk-toggleable__label-arrow\">LogisticRegression</label><div class=\"sk-toggleable__content\"><pre>LogisticRegression()</pre></div></div></div></div></div></div></div></div></div></div></div></div>"
      ],
      "text/plain": [
       "GridSearchCV(cv=5,\n",
       "             estimator=Pipeline(steps=[('Encoder',\n",
       "                                        ColumnTransformer(remainder='passthrough',\n",
       "                                                          transformers=[('OrE',\n",
       "                                                                         OrdinalEncoder(cols=['Dependents'],\n",
       "                                                                                        mapping=[{'col': 'Dependents',\n",
       "                                                                                                  'data_type': dtype('O'),\n",
       "                                                                                                  'mapping': 0     1\n",
       "1     2\n",
       "2     3\n",
       "3+    4\n",
       "dtype: int64}]),\n",
       "                                                                         ['Dependents']),\n",
       "                                                                        ('OHE',\n",
       "                                                                         OneHotEncoder(drop='first',\n",
       "                                                                                       sparse=False),\n",
       "                                                                         ['Gender',\n",
       "                                                                          'Married',\n",
       "                                                                          'Education',\n",
       "                                                                          'Self_Employed',\n",
       "                                                                          'Credit_History',\n",
       "                                                                          'Property_Area'])])),\n",
       "                                       ('Scaler', RobustScaler()),\n",
       "                                       ('Model', LogisticRegression())]),\n",
       "             param_grid={'Model__C': [2, 2.1, 2.2, 2.3],\n",
       "                         'Model__penalty': ['l1', 'l2', 'elasticnet'],\n",
       "                         'Model__solver': ['liblinear', 'saga']},\n",
       "             return_train_score=True, scoring='accuracy')"
      ]
     },
     "execution_count": 383,
     "metadata": {},
     "output_type": "execute_result"
    }
   ],
   "source": [
    "from sklearn.model_selection import GridSearchCV\n",
    "grid_search = GridSearchCV(estimator=pipeline , param_grid=params , cv = 5 ,scoring = 'accuracy' , return_train_score=True )\n",
    "\n",
    "grid_search.fit(x,y)"
   ]
  },
  {
   "cell_type": "code",
   "execution_count": 384,
   "id": "bf2a8ea2",
   "metadata": {},
   "outputs": [
    {
     "data": {
      "text/plain": [
       "{'Model__C': 2, 'Model__penalty': 'l2', 'Model__solver': 'liblinear'}"
      ]
     },
     "execution_count": 384,
     "metadata": {},
     "output_type": "execute_result"
    }
   ],
   "source": [
    "grid_search.best_params_"
   ]
  },
  {
   "cell_type": "code",
   "execution_count": 385,
   "id": "aea5a2fc",
   "metadata": {},
   "outputs": [
    {
     "name": "stdout",
     "output_type": "stream",
     "text": [
      "Mean training accuracy : nan\n",
      "Mean testing accuracy: nan\n"
     ]
    }
   ],
   "source": [
    "print(\"Mean training accuracy :\", grid_search.cv_results_[\"mean_train_score\"].mean())\n",
    "print(\"Mean testing accuracy:\", grid_search.cv_results_[\"mean_test_score\"].mean())"
   ]
  },
  {
   "cell_type": "code",
   "execution_count": 386,
   "id": "8a63aa00",
   "metadata": {},
   "outputs": [
    {
     "name": "stdout",
     "output_type": "stream",
     "text": [
      "Mean training accuracy : nan\n",
      "Mean testing accuracy: nan\n"
     ]
    }
   ],
   "source": [
    "print(\"Mean training accuracy :\", grid_search.cv_results_[\"mean_train_score\"].mean())\n",
    "print(\"Mean testing accuracy:\", grid_search.cv_results_[\"mean_test_score\"].mean())"
   ]
  },
  {
   "cell_type": "markdown",
   "id": "d6bba8d2",
   "metadata": {},
   "source": [
    "#  <font color='#6833FF'>🫗 Save Model</font> "
   ]
  },
  {
   "cell_type": "code",
   "execution_count": 387,
   "id": "e8c062ab",
   "metadata": {},
   "outputs": [],
   "source": [
    "import joblib"
   ]
  },
  {
   "cell_type": "code",
   "execution_count": 388,
   "id": "6cd37350",
   "metadata": {},
   "outputs": [
    {
     "data": {
      "text/html": [
       "<style>#sk-container-id-13 {color: black;background-color: white;}#sk-container-id-13 pre{padding: 0;}#sk-container-id-13 div.sk-toggleable {background-color: white;}#sk-container-id-13 label.sk-toggleable__label {cursor: pointer;display: block;width: 100%;margin-bottom: 0;padding: 0.3em;box-sizing: border-box;text-align: center;}#sk-container-id-13 label.sk-toggleable__label-arrow:before {content: \"▸\";float: left;margin-right: 0.25em;color: #696969;}#sk-container-id-13 label.sk-toggleable__label-arrow:hover:before {color: black;}#sk-container-id-13 div.sk-estimator:hover label.sk-toggleable__label-arrow:before {color: black;}#sk-container-id-13 div.sk-toggleable__content {max-height: 0;max-width: 0;overflow: hidden;text-align: left;background-color: #f0f8ff;}#sk-container-id-13 div.sk-toggleable__content pre {margin: 0.2em;color: black;border-radius: 0.25em;background-color: #f0f8ff;}#sk-container-id-13 input.sk-toggleable__control:checked~div.sk-toggleable__content {max-height: 200px;max-width: 100%;overflow: auto;}#sk-container-id-13 input.sk-toggleable__control:checked~label.sk-toggleable__label-arrow:before {content: \"▾\";}#sk-container-id-13 div.sk-estimator input.sk-toggleable__control:checked~label.sk-toggleable__label {background-color: #d4ebff;}#sk-container-id-13 div.sk-label input.sk-toggleable__control:checked~label.sk-toggleable__label {background-color: #d4ebff;}#sk-container-id-13 input.sk-hidden--visually {border: 0;clip: rect(1px 1px 1px 1px);clip: rect(1px, 1px, 1px, 1px);height: 1px;margin: -1px;overflow: hidden;padding: 0;position: absolute;width: 1px;}#sk-container-id-13 div.sk-estimator {font-family: monospace;background-color: #f0f8ff;border: 1px dotted black;border-radius: 0.25em;box-sizing: border-box;margin-bottom: 0.5em;}#sk-container-id-13 div.sk-estimator:hover {background-color: #d4ebff;}#sk-container-id-13 div.sk-parallel-item::after {content: \"\";width: 100%;border-bottom: 1px solid gray;flex-grow: 1;}#sk-container-id-13 div.sk-label:hover label.sk-toggleable__label {background-color: #d4ebff;}#sk-container-id-13 div.sk-serial::before {content: \"\";position: absolute;border-left: 1px solid gray;box-sizing: border-box;top: 0;bottom: 0;left: 50%;z-index: 0;}#sk-container-id-13 div.sk-serial {display: flex;flex-direction: column;align-items: center;background-color: white;padding-right: 0.2em;padding-left: 0.2em;position: relative;}#sk-container-id-13 div.sk-item {position: relative;z-index: 1;}#sk-container-id-13 div.sk-parallel {display: flex;align-items: stretch;justify-content: center;background-color: white;position: relative;}#sk-container-id-13 div.sk-item::before, #sk-container-id-13 div.sk-parallel-item::before {content: \"\";position: absolute;border-left: 1px solid gray;box-sizing: border-box;top: 0;bottom: 0;left: 50%;z-index: -1;}#sk-container-id-13 div.sk-parallel-item {display: flex;flex-direction: column;z-index: 1;position: relative;background-color: white;}#sk-container-id-13 div.sk-parallel-item:first-child::after {align-self: flex-end;width: 50%;}#sk-container-id-13 div.sk-parallel-item:last-child::after {align-self: flex-start;width: 50%;}#sk-container-id-13 div.sk-parallel-item:only-child::after {width: 0;}#sk-container-id-13 div.sk-dashed-wrapped {border: 1px dashed gray;margin: 0 0.4em 0.5em 0.4em;box-sizing: border-box;padding-bottom: 0.4em;background-color: white;}#sk-container-id-13 div.sk-label label {font-family: monospace;font-weight: bold;display: inline-block;line-height: 1.2em;}#sk-container-id-13 div.sk-label-container {text-align: center;}#sk-container-id-13 div.sk-container {/* jupyter's `normalize.less` sets `[hidden] { display: none; }` but bootstrap.min.css set `[hidden] { display: none !important; }` so we also need the `!important` here to be able to override the default hidden behavior on the sphinx rendered scikit-learn.org. See: https://github.com/scikit-learn/scikit-learn/issues/21755 */display: inline-block !important;position: relative;}#sk-container-id-13 div.sk-text-repr-fallback {display: none;}</style><div id=\"sk-container-id-13\" class=\"sk-top-container\"><div class=\"sk-text-repr-fallback\"><pre>Pipeline(steps=[(&#x27;Encoder&#x27;,\n",
       "                 ColumnTransformer(remainder=&#x27;passthrough&#x27;,\n",
       "                                   transformers=[(&#x27;OrE&#x27;,\n",
       "                                                  OrdinalEncoder(cols=[&#x27;Dependents&#x27;],\n",
       "                                                                 mapping=[{&#x27;col&#x27;: &#x27;Dependents&#x27;,\n",
       "                                                                           &#x27;data_type&#x27;: dtype(&#x27;O&#x27;),\n",
       "                                                                           &#x27;mapping&#x27;: 0     1\n",
       "1     2\n",
       "2     3\n",
       "3+    4\n",
       "dtype: int64}]),\n",
       "                                                  [&#x27;Dependents&#x27;]),\n",
       "                                                 (&#x27;OHE&#x27;,\n",
       "                                                  OneHotEncoder(drop=&#x27;first&#x27;,\n",
       "                                                                sparse=False),\n",
       "                                                  [&#x27;Gender&#x27;, &#x27;Married&#x27;,\n",
       "                                                   &#x27;Education&#x27;, &#x27;Self_Employed&#x27;,\n",
       "                                                   &#x27;Credit_History&#x27;,\n",
       "                                                   &#x27;Property_Area&#x27;])])),\n",
       "                (&#x27;Scaler&#x27;, RobustScaler()),\n",
       "                (&#x27;Model&#x27;, LogisticRegression(C=2, solver=&#x27;liblinear&#x27;))])</pre><b>In a Jupyter environment, please rerun this cell to show the HTML representation or trust the notebook. <br />On GitHub, the HTML representation is unable to render, please try loading this page with nbviewer.org.</b></div><div class=\"sk-container\" hidden><div class=\"sk-item sk-dashed-wrapped\"><div class=\"sk-label-container\"><div class=\"sk-label sk-toggleable\"><input class=\"sk-toggleable__control sk-hidden--visually\" id=\"sk-estimator-id-119\" type=\"checkbox\" ><label for=\"sk-estimator-id-119\" class=\"sk-toggleable__label sk-toggleable__label-arrow\">Pipeline</label><div class=\"sk-toggleable__content\"><pre>Pipeline(steps=[(&#x27;Encoder&#x27;,\n",
       "                 ColumnTransformer(remainder=&#x27;passthrough&#x27;,\n",
       "                                   transformers=[(&#x27;OrE&#x27;,\n",
       "                                                  OrdinalEncoder(cols=[&#x27;Dependents&#x27;],\n",
       "                                                                 mapping=[{&#x27;col&#x27;: &#x27;Dependents&#x27;,\n",
       "                                                                           &#x27;data_type&#x27;: dtype(&#x27;O&#x27;),\n",
       "                                                                           &#x27;mapping&#x27;: 0     1\n",
       "1     2\n",
       "2     3\n",
       "3+    4\n",
       "dtype: int64}]),\n",
       "                                                  [&#x27;Dependents&#x27;]),\n",
       "                                                 (&#x27;OHE&#x27;,\n",
       "                                                  OneHotEncoder(drop=&#x27;first&#x27;,\n",
       "                                                                sparse=False),\n",
       "                                                  [&#x27;Gender&#x27;, &#x27;Married&#x27;,\n",
       "                                                   &#x27;Education&#x27;, &#x27;Self_Employed&#x27;,\n",
       "                                                   &#x27;Credit_History&#x27;,\n",
       "                                                   &#x27;Property_Area&#x27;])])),\n",
       "                (&#x27;Scaler&#x27;, RobustScaler()),\n",
       "                (&#x27;Model&#x27;, LogisticRegression(C=2, solver=&#x27;liblinear&#x27;))])</pre></div></div></div><div class=\"sk-serial\"><div class=\"sk-item sk-dashed-wrapped\"><div class=\"sk-label-container\"><div class=\"sk-label sk-toggleable\"><input class=\"sk-toggleable__control sk-hidden--visually\" id=\"sk-estimator-id-120\" type=\"checkbox\" ><label for=\"sk-estimator-id-120\" class=\"sk-toggleable__label sk-toggleable__label-arrow\">Encoder: ColumnTransformer</label><div class=\"sk-toggleable__content\"><pre>ColumnTransformer(remainder=&#x27;passthrough&#x27;,\n",
       "                  transformers=[(&#x27;OrE&#x27;,\n",
       "                                 OrdinalEncoder(cols=[&#x27;Dependents&#x27;],\n",
       "                                                mapping=[{&#x27;col&#x27;: &#x27;Dependents&#x27;,\n",
       "                                                          &#x27;data_type&#x27;: dtype(&#x27;O&#x27;),\n",
       "                                                          &#x27;mapping&#x27;: 0     1\n",
       "1     2\n",
       "2     3\n",
       "3+    4\n",
       "dtype: int64}]),\n",
       "                                 [&#x27;Dependents&#x27;]),\n",
       "                                (&#x27;OHE&#x27;,\n",
       "                                 OneHotEncoder(drop=&#x27;first&#x27;, sparse=False),\n",
       "                                 [&#x27;Gender&#x27;, &#x27;Married&#x27;, &#x27;Education&#x27;,\n",
       "                                  &#x27;Self_Employed&#x27;, &#x27;Credit_History&#x27;,\n",
       "                                  &#x27;Property_Area&#x27;])])</pre></div></div></div><div class=\"sk-parallel\"><div class=\"sk-parallel-item\"><div class=\"sk-item\"><div class=\"sk-label-container\"><div class=\"sk-label sk-toggleable\"><input class=\"sk-toggleable__control sk-hidden--visually\" id=\"sk-estimator-id-121\" type=\"checkbox\" ><label for=\"sk-estimator-id-121\" class=\"sk-toggleable__label sk-toggleable__label-arrow\">OrE</label><div class=\"sk-toggleable__content\"><pre>[&#x27;Dependents&#x27;]</pre></div></div></div><div class=\"sk-serial\"><div class=\"sk-item\"><div class=\"sk-estimator sk-toggleable\"><input class=\"sk-toggleable__control sk-hidden--visually\" id=\"sk-estimator-id-122\" type=\"checkbox\" ><label for=\"sk-estimator-id-122\" class=\"sk-toggleable__label sk-toggleable__label-arrow\">OrdinalEncoder</label><div class=\"sk-toggleable__content\"><pre>OrdinalEncoder(cols=[&#x27;Dependents&#x27;],\n",
       "               mapping=[{&#x27;col&#x27;: &#x27;Dependents&#x27;, &#x27;data_type&#x27;: dtype(&#x27;O&#x27;),\n",
       "                         &#x27;mapping&#x27;: 0     1\n",
       "1     2\n",
       "2     3\n",
       "3+    4\n",
       "dtype: int64}])</pre></div></div></div></div></div></div><div class=\"sk-parallel-item\"><div class=\"sk-item\"><div class=\"sk-label-container\"><div class=\"sk-label sk-toggleable\"><input class=\"sk-toggleable__control sk-hidden--visually\" id=\"sk-estimator-id-123\" type=\"checkbox\" ><label for=\"sk-estimator-id-123\" class=\"sk-toggleable__label sk-toggleable__label-arrow\">OHE</label><div class=\"sk-toggleable__content\"><pre>[&#x27;Gender&#x27;, &#x27;Married&#x27;, &#x27;Education&#x27;, &#x27;Self_Employed&#x27;, &#x27;Credit_History&#x27;, &#x27;Property_Area&#x27;]</pre></div></div></div><div class=\"sk-serial\"><div class=\"sk-item\"><div class=\"sk-estimator sk-toggleable\"><input class=\"sk-toggleable__control sk-hidden--visually\" id=\"sk-estimator-id-124\" type=\"checkbox\" ><label for=\"sk-estimator-id-124\" class=\"sk-toggleable__label sk-toggleable__label-arrow\">OneHotEncoder</label><div class=\"sk-toggleable__content\"><pre>OneHotEncoder(drop=&#x27;first&#x27;, sparse=False)</pre></div></div></div></div></div></div><div class=\"sk-parallel-item\"><div class=\"sk-item\"><div class=\"sk-label-container\"><div class=\"sk-label sk-toggleable\"><input class=\"sk-toggleable__control sk-hidden--visually\" id=\"sk-estimator-id-125\" type=\"checkbox\" ><label for=\"sk-estimator-id-125\" class=\"sk-toggleable__label sk-toggleable__label-arrow\">remainder</label><div class=\"sk-toggleable__content\"><pre>[&#x27;ApplicantIncome&#x27;, &#x27;CoapplicantIncome&#x27;, &#x27;LoanAmount&#x27;, &#x27;Loan_Amount_Term&#x27;, &#x27;DTI&#x27;]</pre></div></div></div><div class=\"sk-serial\"><div class=\"sk-item\"><div class=\"sk-estimator sk-toggleable\"><input class=\"sk-toggleable__control sk-hidden--visually\" id=\"sk-estimator-id-126\" type=\"checkbox\" ><label for=\"sk-estimator-id-126\" class=\"sk-toggleable__label sk-toggleable__label-arrow\">passthrough</label><div class=\"sk-toggleable__content\"><pre>passthrough</pre></div></div></div></div></div></div></div></div><div class=\"sk-item\"><div class=\"sk-estimator sk-toggleable\"><input class=\"sk-toggleable__control sk-hidden--visually\" id=\"sk-estimator-id-127\" type=\"checkbox\" ><label for=\"sk-estimator-id-127\" class=\"sk-toggleable__label sk-toggleable__label-arrow\">RobustScaler</label><div class=\"sk-toggleable__content\"><pre>RobustScaler()</pre></div></div></div><div class=\"sk-item\"><div class=\"sk-estimator sk-toggleable\"><input class=\"sk-toggleable__control sk-hidden--visually\" id=\"sk-estimator-id-128\" type=\"checkbox\" ><label for=\"sk-estimator-id-128\" class=\"sk-toggleable__label sk-toggleable__label-arrow\">LogisticRegression</label><div class=\"sk-toggleable__content\"><pre>LogisticRegression(C=2, solver=&#x27;liblinear&#x27;)</pre></div></div></div></div></div></div></div>"
      ],
      "text/plain": [
       "Pipeline(steps=[('Encoder',\n",
       "                 ColumnTransformer(remainder='passthrough',\n",
       "                                   transformers=[('OrE',\n",
       "                                                  OrdinalEncoder(cols=['Dependents'],\n",
       "                                                                 mapping=[{'col': 'Dependents',\n",
       "                                                                           'data_type': dtype('O'),\n",
       "                                                                           'mapping': 0     1\n",
       "1     2\n",
       "2     3\n",
       "3+    4\n",
       "dtype: int64}]),\n",
       "                                                  ['Dependents']),\n",
       "                                                 ('OHE',\n",
       "                                                  OneHotEncoder(drop='first',\n",
       "                                                                sparse=False),\n",
       "                                                  ['Gender', 'Married',\n",
       "                                                   'Education', 'Self_Employed',\n",
       "                                                   'Credit_History',\n",
       "                                                   'Property_Area'])])),\n",
       "                ('Scaler', RobustScaler()),\n",
       "                ('Model', LogisticRegression(C=2, solver='liblinear'))])"
      ]
     },
     "execution_count": 388,
     "metadata": {},
     "output_type": "execute_result"
    }
   ],
   "source": [
    "final_model = grid_search.best_estimator_\n",
    "final_model"
   ]
  },
  {
   "cell_type": "code",
   "execution_count": 389,
   "id": "92a2bc77",
   "metadata": {},
   "outputs": [
    {
     "data": {
      "text/plain": [
       "['Inputs.pkl']"
      ]
     },
     "execution_count": 389,
     "metadata": {},
     "output_type": "execute_result"
    }
   ],
   "source": [
    "joblib.dump(final_model , \"Model.pkl\")\n",
    "joblib.dump(x.columns , \"Inputs.pkl\")"
   ]
  },
  {
   "cell_type": "code",
   "execution_count": null,
   "id": "b476bf61",
   "metadata": {},
   "outputs": [],
   "source": []
  },
  {
   "cell_type": "code",
   "execution_count": null,
   "id": "00fd2bc0",
   "metadata": {},
   "outputs": [],
   "source": []
  },
  {
   "cell_type": "code",
   "execution_count": 390,
   "id": "ac847e10",
   "metadata": {},
   "outputs": [],
   "source": [
    "Model = joblib.load(\"Model.pkl\")"
   ]
  },
  {
   "cell_type": "code",
   "execution_count": 391,
   "id": "d645c222",
   "metadata": {},
   "outputs": [
    {
     "data": {
      "text/plain": [
       "1"
      ]
     },
     "execution_count": 391,
     "metadata": {},
     "output_type": "execute_result"
    }
   ],
   "source": [
    "y.iloc[5]"
   ]
  },
  {
   "cell_type": "code",
   "execution_count": 392,
   "id": "a53976b6",
   "metadata": {},
   "outputs": [
    {
     "data": {
      "text/plain": [
       "1"
      ]
     },
     "execution_count": 392,
     "metadata": {},
     "output_type": "execute_result"
    }
   ],
   "source": [
    "Model.predict(x.iloc[[5]])[0]"
   ]
  },
  {
   "cell_type": "code",
   "execution_count": 394,
   "id": "7f025688",
   "metadata": {},
   "outputs": [
    {
     "data": {
      "text/html": [
       "<div>\n",
       "<style scoped>\n",
       "    .dataframe tbody tr th:only-of-type {\n",
       "        vertical-align: middle;\n",
       "    }\n",
       "\n",
       "    .dataframe tbody tr th {\n",
       "        vertical-align: top;\n",
       "    }\n",
       "\n",
       "    .dataframe thead th {\n",
       "        text-align: right;\n",
       "    }\n",
       "</style>\n",
       "<table border=\"1\" class=\"dataframe\">\n",
       "  <thead>\n",
       "    <tr style=\"text-align: right;\">\n",
       "      <th></th>\n",
       "      <th>Gender</th>\n",
       "      <th>Married</th>\n",
       "      <th>Dependents</th>\n",
       "      <th>Education</th>\n",
       "      <th>Self_Employed</th>\n",
       "      <th>ApplicantIncome</th>\n",
       "      <th>CoapplicantIncome</th>\n",
       "      <th>LoanAmount</th>\n",
       "      <th>Loan_Amount_Term</th>\n",
       "      <th>Credit_History</th>\n",
       "      <th>Property_Area</th>\n",
       "      <th>DTI</th>\n",
       "    </tr>\n",
       "  </thead>\n",
       "  <tbody>\n",
       "    <tr>\n",
       "      <th>104</th>\n",
       "      <td>Male</td>\n",
       "      <td>Yes</td>\n",
       "      <td>0</td>\n",
       "      <td>Graduate</td>\n",
       "      <td>No</td>\n",
       "      <td>4583</td>\n",
       "      <td>5625.0</td>\n",
       "      <td>255000000.0</td>\n",
       "      <td>30.0</td>\n",
       "      <td>1.0</td>\n",
       "      <td>Semiurban</td>\n",
       "      <td>15455.669503</td>\n",
       "    </tr>\n",
       "  </tbody>\n",
       "</table>\n",
       "</div>"
      ],
      "text/plain": [
       "    Gender Married Dependents Education Self_Employed  ApplicantIncome   \n",
       "104   Male     Yes          0  Graduate            No             4583  \\\n",
       "\n",
       "     CoapplicantIncome   LoanAmount  Loan_Amount_Term  Credit_History   \n",
       "104             5625.0  255000000.0              30.0             1.0  \\\n",
       "\n",
       "    Property_Area           DTI  \n",
       "104     Semiurban  15455.669503  "
      ]
     },
     "execution_count": 394,
     "metadata": {},
     "output_type": "execute_result"
    }
   ],
   "source": [
    "x.sample()"
   ]
  },
  {
   "cell_type": "code",
   "execution_count": null,
   "id": "7d7d7d46",
   "metadata": {},
   "outputs": [],
   "source": []
  }
 ],
 "metadata": {
  "kernelspec": {
   "display_name": "Python 3 (ipykernel)",
   "language": "python",
   "name": "python3"
  },
  "language_info": {
   "codemirror_mode": {
    "name": "ipython",
    "version": 3
   },
   "file_extension": ".py",
   "mimetype": "text/x-python",
   "name": "python",
   "nbconvert_exporter": "python",
   "pygments_lexer": "ipython3",
   "version": "3.10.9"
  }
 },
 "nbformat": 4,
 "nbformat_minor": 5
}
